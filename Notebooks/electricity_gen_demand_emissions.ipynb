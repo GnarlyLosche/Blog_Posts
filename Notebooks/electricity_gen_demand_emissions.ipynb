{
 "cells": [
  {
   "cell_type": "code",
   "execution_count": 1,
   "metadata": {},
   "outputs": [],
   "source": [
    "import csv\n",
    "import pandas as pd\n",
    "import matplotlib.pyplot as plt\n",
    "import seaborn as sns\n",
    "from pandasql import sqldf\n",
    "import numpy as np\n",
    "import datetime\n",
    "import waterfall_chart\n",
    "\n",
    "from sklearn.model_selection import train_test_split\n",
    "from sklearn.preprocessing import normalize, StandardScaler, OneHotEncoder\n",
    "from sklearn.linear_model import LinearRegression, LogisticRegression\n",
    "from sklearn.metrics import log_loss\n",
    "from sklearn.dummy import DummyClassifier\n",
    "\n",
    "# For demonstrative pruposes\n",
    "from scipy.special import logit, expit\n",
    "\n",
    "from sklearn.linear_model import LogisticRegression\n",
    "from sklearn.neighbors import KNeighborsClassifier\n",
    "from sklearn.tree import DecisionTreeClassifier\n",
    "\n",
    "from sklearn.metrics import precision_score, recall_score\n",
    "from sklearn.model_selection import train_test_split, GridSearchCV,\\\n",
    "cross_val_score, RandomizedSearchCV\n",
    "\n",
    "from sklearn.preprocessing import OneHotEncoder, StandardScaler\n",
    "from sklearn.impute import SimpleImputer\n",
    "from sklearn.pipeline import Pipeline\n",
    "from sklearn.compose import ColumnTransformer\n",
    "\n",
    "from sklearn.ensemble import BaggingClassifier, RandomForestClassifier, \\\n",
    "ExtraTreesClassifier, VotingClassifier, StackingRegressor, StackingClassifier\n",
    "\n",
    "from sklearn.naive_bayes import MultinomialNB, GaussianNB"
   ]
  },
  {
   "cell_type": "code",
   "execution_count": 2,
   "metadata": {},
   "outputs": [],
   "source": [
    "df = pd.read_csv('../Data/monthly_full_release_long_format.csv', parse_dates=['Date'])"
   ]
  },
  {
   "cell_type": "code",
   "execution_count": 3,
   "metadata": {
    "scrolled": false
   },
   "outputs": [
    {
     "data": {
      "text/html": [
       "<div>\n",
       "<style scoped>\n",
       "    .dataframe tbody tr th:only-of-type {\n",
       "        vertical-align: middle;\n",
       "    }\n",
       "\n",
       "    .dataframe tbody tr th {\n",
       "        vertical-align: top;\n",
       "    }\n",
       "\n",
       "    .dataframe thead th {\n",
       "        text-align: right;\n",
       "    }\n",
       "</style>\n",
       "<table border=\"1\" class=\"dataframe\">\n",
       "  <thead>\n",
       "    <tr style=\"text-align: right;\">\n",
       "      <th></th>\n",
       "      <th>Area</th>\n",
       "      <th>Country code</th>\n",
       "      <th>Date</th>\n",
       "      <th>Area type</th>\n",
       "      <th>Continent</th>\n",
       "      <th>Ember region</th>\n",
       "      <th>EU</th>\n",
       "      <th>OECD</th>\n",
       "      <th>G20</th>\n",
       "      <th>G7</th>\n",
       "      <th>Category</th>\n",
       "      <th>Subcategory</th>\n",
       "      <th>Variable</th>\n",
       "      <th>Unit</th>\n",
       "      <th>Value</th>\n",
       "      <th>YoY absolute change</th>\n",
       "      <th>YoY % change</th>\n",
       "    </tr>\n",
       "  </thead>\n",
       "  <tbody>\n",
       "    <tr>\n",
       "      <th>0</th>\n",
       "      <td>Argentina</td>\n",
       "      <td>ARG</td>\n",
       "      <td>2018-01-01</td>\n",
       "      <td>Country</td>\n",
       "      <td>South America</td>\n",
       "      <td>Latin America and Caribbean</td>\n",
       "      <td>0.0</td>\n",
       "      <td>0.0</td>\n",
       "      <td>1.0</td>\n",
       "      <td>0.0</td>\n",
       "      <td>Electricity demand</td>\n",
       "      <td>Demand</td>\n",
       "      <td>Demand</td>\n",
       "      <td>TWh</td>\n",
       "      <td>12.77</td>\n",
       "      <td>NaN</td>\n",
       "      <td>NaN</td>\n",
       "    </tr>\n",
       "    <tr>\n",
       "      <th>1</th>\n",
       "      <td>Argentina</td>\n",
       "      <td>ARG</td>\n",
       "      <td>2018-01-01</td>\n",
       "      <td>Country</td>\n",
       "      <td>South America</td>\n",
       "      <td>Latin America and Caribbean</td>\n",
       "      <td>0.0</td>\n",
       "      <td>0.0</td>\n",
       "      <td>1.0</td>\n",
       "      <td>0.0</td>\n",
       "      <td>Electricity generation</td>\n",
       "      <td>Aggregate fuel</td>\n",
       "      <td>Clean</td>\n",
       "      <td>%</td>\n",
       "      <td>34.57</td>\n",
       "      <td>NaN</td>\n",
       "      <td>NaN</td>\n",
       "    </tr>\n",
       "    <tr>\n",
       "      <th>2</th>\n",
       "      <td>Argentina</td>\n",
       "      <td>ARG</td>\n",
       "      <td>2018-01-01</td>\n",
       "      <td>Country</td>\n",
       "      <td>South America</td>\n",
       "      <td>Latin America and Caribbean</td>\n",
       "      <td>0.0</td>\n",
       "      <td>0.0</td>\n",
       "      <td>1.0</td>\n",
       "      <td>0.0</td>\n",
       "      <td>Electricity generation</td>\n",
       "      <td>Aggregate fuel</td>\n",
       "      <td>Fossil</td>\n",
       "      <td>%</td>\n",
       "      <td>65.44</td>\n",
       "      <td>NaN</td>\n",
       "      <td>NaN</td>\n",
       "    </tr>\n",
       "    <tr>\n",
       "      <th>3</th>\n",
       "      <td>Argentina</td>\n",
       "      <td>ARG</td>\n",
       "      <td>2018-01-01</td>\n",
       "      <td>Country</td>\n",
       "      <td>South America</td>\n",
       "      <td>Latin America and Caribbean</td>\n",
       "      <td>0.0</td>\n",
       "      <td>0.0</td>\n",
       "      <td>1.0</td>\n",
       "      <td>0.0</td>\n",
       "      <td>Electricity generation</td>\n",
       "      <td>Aggregate fuel</td>\n",
       "      <td>Gas and Other Fossil</td>\n",
       "      <td>%</td>\n",
       "      <td>63.40</td>\n",
       "      <td>NaN</td>\n",
       "      <td>NaN</td>\n",
       "    </tr>\n",
       "    <tr>\n",
       "      <th>4</th>\n",
       "      <td>Argentina</td>\n",
       "      <td>ARG</td>\n",
       "      <td>2018-01-01</td>\n",
       "      <td>Country</td>\n",
       "      <td>South America</td>\n",
       "      <td>Latin America and Caribbean</td>\n",
       "      <td>0.0</td>\n",
       "      <td>0.0</td>\n",
       "      <td>1.0</td>\n",
       "      <td>0.0</td>\n",
       "      <td>Electricity generation</td>\n",
       "      <td>Aggregate fuel</td>\n",
       "      <td>Hydro, Bioenergy and Other Renewables</td>\n",
       "      <td>%</td>\n",
       "      <td>29.08</td>\n",
       "      <td>NaN</td>\n",
       "      <td>NaN</td>\n",
       "    </tr>\n",
       "    <tr>\n",
       "      <th>5</th>\n",
       "      <td>Argentina</td>\n",
       "      <td>ARG</td>\n",
       "      <td>2018-01-01</td>\n",
       "      <td>Country</td>\n",
       "      <td>South America</td>\n",
       "      <td>Latin America and Caribbean</td>\n",
       "      <td>0.0</td>\n",
       "      <td>0.0</td>\n",
       "      <td>1.0</td>\n",
       "      <td>0.0</td>\n",
       "      <td>Electricity generation</td>\n",
       "      <td>Aggregate fuel</td>\n",
       "      <td>Renewables</td>\n",
       "      <td>%</td>\n",
       "      <td>29.55</td>\n",
       "      <td>NaN</td>\n",
       "      <td>NaN</td>\n",
       "    </tr>\n",
       "    <tr>\n",
       "      <th>6</th>\n",
       "      <td>Argentina</td>\n",
       "      <td>ARG</td>\n",
       "      <td>2018-01-01</td>\n",
       "      <td>Country</td>\n",
       "      <td>South America</td>\n",
       "      <td>Latin America and Caribbean</td>\n",
       "      <td>0.0</td>\n",
       "      <td>0.0</td>\n",
       "      <td>1.0</td>\n",
       "      <td>0.0</td>\n",
       "      <td>Electricity generation</td>\n",
       "      <td>Aggregate fuel</td>\n",
       "      <td>Wind and Solar</td>\n",
       "      <td>%</td>\n",
       "      <td>0.47</td>\n",
       "      <td>NaN</td>\n",
       "      <td>NaN</td>\n",
       "    </tr>\n",
       "    <tr>\n",
       "      <th>7</th>\n",
       "      <td>Argentina</td>\n",
       "      <td>ARG</td>\n",
       "      <td>2018-01-01</td>\n",
       "      <td>Country</td>\n",
       "      <td>South America</td>\n",
       "      <td>Latin America and Caribbean</td>\n",
       "      <td>0.0</td>\n",
       "      <td>0.0</td>\n",
       "      <td>1.0</td>\n",
       "      <td>0.0</td>\n",
       "      <td>Electricity generation</td>\n",
       "      <td>Aggregate fuel</td>\n",
       "      <td>Clean</td>\n",
       "      <td>TWh</td>\n",
       "      <td>4.41</td>\n",
       "      <td>NaN</td>\n",
       "      <td>NaN</td>\n",
       "    </tr>\n",
       "    <tr>\n",
       "      <th>8</th>\n",
       "      <td>Argentina</td>\n",
       "      <td>ARG</td>\n",
       "      <td>2018-01-01</td>\n",
       "      <td>Country</td>\n",
       "      <td>South America</td>\n",
       "      <td>Latin America and Caribbean</td>\n",
       "      <td>0.0</td>\n",
       "      <td>0.0</td>\n",
       "      <td>1.0</td>\n",
       "      <td>0.0</td>\n",
       "      <td>Electricity generation</td>\n",
       "      <td>Aggregate fuel</td>\n",
       "      <td>Fossil</td>\n",
       "      <td>TWh</td>\n",
       "      <td>8.35</td>\n",
       "      <td>NaN</td>\n",
       "      <td>NaN</td>\n",
       "    </tr>\n",
       "    <tr>\n",
       "      <th>9</th>\n",
       "      <td>Argentina</td>\n",
       "      <td>ARG</td>\n",
       "      <td>2018-01-01</td>\n",
       "      <td>Country</td>\n",
       "      <td>South America</td>\n",
       "      <td>Latin America and Caribbean</td>\n",
       "      <td>0.0</td>\n",
       "      <td>0.0</td>\n",
       "      <td>1.0</td>\n",
       "      <td>0.0</td>\n",
       "      <td>Electricity generation</td>\n",
       "      <td>Aggregate fuel</td>\n",
       "      <td>Gas and Other Fossil</td>\n",
       "      <td>TWh</td>\n",
       "      <td>8.09</td>\n",
       "      <td>NaN</td>\n",
       "      <td>NaN</td>\n",
       "    </tr>\n",
       "    <tr>\n",
       "      <th>10</th>\n",
       "      <td>Argentina</td>\n",
       "      <td>ARG</td>\n",
       "      <td>2018-01-01</td>\n",
       "      <td>Country</td>\n",
       "      <td>South America</td>\n",
       "      <td>Latin America and Caribbean</td>\n",
       "      <td>0.0</td>\n",
       "      <td>0.0</td>\n",
       "      <td>1.0</td>\n",
       "      <td>0.0</td>\n",
       "      <td>Electricity generation</td>\n",
       "      <td>Aggregate fuel</td>\n",
       "      <td>Hydro, Bioenergy and Other Renewables</td>\n",
       "      <td>TWh</td>\n",
       "      <td>3.71</td>\n",
       "      <td>NaN</td>\n",
       "      <td>NaN</td>\n",
       "    </tr>\n",
       "    <tr>\n",
       "      <th>11</th>\n",
       "      <td>Argentina</td>\n",
       "      <td>ARG</td>\n",
       "      <td>2018-01-01</td>\n",
       "      <td>Country</td>\n",
       "      <td>South America</td>\n",
       "      <td>Latin America and Caribbean</td>\n",
       "      <td>0.0</td>\n",
       "      <td>0.0</td>\n",
       "      <td>1.0</td>\n",
       "      <td>0.0</td>\n",
       "      <td>Electricity generation</td>\n",
       "      <td>Aggregate fuel</td>\n",
       "      <td>Renewables</td>\n",
       "      <td>TWh</td>\n",
       "      <td>3.77</td>\n",
       "      <td>NaN</td>\n",
       "      <td>NaN</td>\n",
       "    </tr>\n",
       "    <tr>\n",
       "      <th>12</th>\n",
       "      <td>Argentina</td>\n",
       "      <td>ARG</td>\n",
       "      <td>2018-01-01</td>\n",
       "      <td>Country</td>\n",
       "      <td>South America</td>\n",
       "      <td>Latin America and Caribbean</td>\n",
       "      <td>0.0</td>\n",
       "      <td>0.0</td>\n",
       "      <td>1.0</td>\n",
       "      <td>0.0</td>\n",
       "      <td>Electricity generation</td>\n",
       "      <td>Aggregate fuel</td>\n",
       "      <td>Wind and Solar</td>\n",
       "      <td>TWh</td>\n",
       "      <td>0.06</td>\n",
       "      <td>NaN</td>\n",
       "      <td>NaN</td>\n",
       "    </tr>\n",
       "    <tr>\n",
       "      <th>13</th>\n",
       "      <td>Argentina</td>\n",
       "      <td>ARG</td>\n",
       "      <td>2018-01-01</td>\n",
       "      <td>Country</td>\n",
       "      <td>South America</td>\n",
       "      <td>Latin America and Caribbean</td>\n",
       "      <td>0.0</td>\n",
       "      <td>0.0</td>\n",
       "      <td>1.0</td>\n",
       "      <td>0.0</td>\n",
       "      <td>Electricity generation</td>\n",
       "      <td>Fuel</td>\n",
       "      <td>Bioenergy</td>\n",
       "      <td>%</td>\n",
       "      <td>0.16</td>\n",
       "      <td>NaN</td>\n",
       "      <td>NaN</td>\n",
       "    </tr>\n",
       "    <tr>\n",
       "      <th>14</th>\n",
       "      <td>Argentina</td>\n",
       "      <td>ARG</td>\n",
       "      <td>2018-01-01</td>\n",
       "      <td>Country</td>\n",
       "      <td>South America</td>\n",
       "      <td>Latin America and Caribbean</td>\n",
       "      <td>0.0</td>\n",
       "      <td>0.0</td>\n",
       "      <td>1.0</td>\n",
       "      <td>0.0</td>\n",
       "      <td>Electricity generation</td>\n",
       "      <td>Fuel</td>\n",
       "      <td>Coal</td>\n",
       "      <td>%</td>\n",
       "      <td>2.04</td>\n",
       "      <td>NaN</td>\n",
       "      <td>NaN</td>\n",
       "    </tr>\n",
       "    <tr>\n",
       "      <th>15</th>\n",
       "      <td>Argentina</td>\n",
       "      <td>ARG</td>\n",
       "      <td>2018-01-01</td>\n",
       "      <td>Country</td>\n",
       "      <td>South America</td>\n",
       "      <td>Latin America and Caribbean</td>\n",
       "      <td>0.0</td>\n",
       "      <td>0.0</td>\n",
       "      <td>1.0</td>\n",
       "      <td>0.0</td>\n",
       "      <td>Electricity generation</td>\n",
       "      <td>Fuel</td>\n",
       "      <td>Gas</td>\n",
       "      <td>%</td>\n",
       "      <td>61.05</td>\n",
       "      <td>NaN</td>\n",
       "      <td>NaN</td>\n",
       "    </tr>\n",
       "    <tr>\n",
       "      <th>16</th>\n",
       "      <td>Argentina</td>\n",
       "      <td>ARG</td>\n",
       "      <td>2018-01-01</td>\n",
       "      <td>Country</td>\n",
       "      <td>South America</td>\n",
       "      <td>Latin America and Caribbean</td>\n",
       "      <td>0.0</td>\n",
       "      <td>0.0</td>\n",
       "      <td>1.0</td>\n",
       "      <td>0.0</td>\n",
       "      <td>Electricity generation</td>\n",
       "      <td>Fuel</td>\n",
       "      <td>Hydro</td>\n",
       "      <td>%</td>\n",
       "      <td>28.92</td>\n",
       "      <td>NaN</td>\n",
       "      <td>NaN</td>\n",
       "    </tr>\n",
       "    <tr>\n",
       "      <th>17</th>\n",
       "      <td>Argentina</td>\n",
       "      <td>ARG</td>\n",
       "      <td>2018-01-01</td>\n",
       "      <td>Country</td>\n",
       "      <td>South America</td>\n",
       "      <td>Latin America and Caribbean</td>\n",
       "      <td>0.0</td>\n",
       "      <td>0.0</td>\n",
       "      <td>1.0</td>\n",
       "      <td>0.0</td>\n",
       "      <td>Electricity generation</td>\n",
       "      <td>Fuel</td>\n",
       "      <td>Nuclear</td>\n",
       "      <td>%</td>\n",
       "      <td>5.02</td>\n",
       "      <td>NaN</td>\n",
       "      <td>NaN</td>\n",
       "    </tr>\n",
       "    <tr>\n",
       "      <th>18</th>\n",
       "      <td>Argentina</td>\n",
       "      <td>ARG</td>\n",
       "      <td>2018-01-01</td>\n",
       "      <td>Country</td>\n",
       "      <td>South America</td>\n",
       "      <td>Latin America and Caribbean</td>\n",
       "      <td>0.0</td>\n",
       "      <td>0.0</td>\n",
       "      <td>1.0</td>\n",
       "      <td>0.0</td>\n",
       "      <td>Electricity generation</td>\n",
       "      <td>Fuel</td>\n",
       "      <td>Other Fossil</td>\n",
       "      <td>%</td>\n",
       "      <td>2.35</td>\n",
       "      <td>NaN</td>\n",
       "      <td>NaN</td>\n",
       "    </tr>\n",
       "    <tr>\n",
       "      <th>19</th>\n",
       "      <td>Argentina</td>\n",
       "      <td>ARG</td>\n",
       "      <td>2018-01-01</td>\n",
       "      <td>Country</td>\n",
       "      <td>South America</td>\n",
       "      <td>Latin America and Caribbean</td>\n",
       "      <td>0.0</td>\n",
       "      <td>0.0</td>\n",
       "      <td>1.0</td>\n",
       "      <td>0.0</td>\n",
       "      <td>Electricity generation</td>\n",
       "      <td>Fuel</td>\n",
       "      <td>Solar</td>\n",
       "      <td>%</td>\n",
       "      <td>0.00</td>\n",
       "      <td>NaN</td>\n",
       "      <td>NaN</td>\n",
       "    </tr>\n",
       "    <tr>\n",
       "      <th>20</th>\n",
       "      <td>Argentina</td>\n",
       "      <td>ARG</td>\n",
       "      <td>2018-01-01</td>\n",
       "      <td>Country</td>\n",
       "      <td>South America</td>\n",
       "      <td>Latin America and Caribbean</td>\n",
       "      <td>0.0</td>\n",
       "      <td>0.0</td>\n",
       "      <td>1.0</td>\n",
       "      <td>0.0</td>\n",
       "      <td>Electricity generation</td>\n",
       "      <td>Fuel</td>\n",
       "      <td>Wind</td>\n",
       "      <td>%</td>\n",
       "      <td>0.47</td>\n",
       "      <td>NaN</td>\n",
       "      <td>NaN</td>\n",
       "    </tr>\n",
       "    <tr>\n",
       "      <th>21</th>\n",
       "      <td>Argentina</td>\n",
       "      <td>ARG</td>\n",
       "      <td>2018-01-01</td>\n",
       "      <td>Country</td>\n",
       "      <td>South America</td>\n",
       "      <td>Latin America and Caribbean</td>\n",
       "      <td>0.0</td>\n",
       "      <td>0.0</td>\n",
       "      <td>1.0</td>\n",
       "      <td>0.0</td>\n",
       "      <td>Electricity generation</td>\n",
       "      <td>Fuel</td>\n",
       "      <td>Bioenergy</td>\n",
       "      <td>TWh</td>\n",
       "      <td>0.02</td>\n",
       "      <td>NaN</td>\n",
       "      <td>NaN</td>\n",
       "    </tr>\n",
       "    <tr>\n",
       "      <th>22</th>\n",
       "      <td>Argentina</td>\n",
       "      <td>ARG</td>\n",
       "      <td>2018-01-01</td>\n",
       "      <td>Country</td>\n",
       "      <td>South America</td>\n",
       "      <td>Latin America and Caribbean</td>\n",
       "      <td>0.0</td>\n",
       "      <td>0.0</td>\n",
       "      <td>1.0</td>\n",
       "      <td>0.0</td>\n",
       "      <td>Electricity generation</td>\n",
       "      <td>Fuel</td>\n",
       "      <td>Coal</td>\n",
       "      <td>TWh</td>\n",
       "      <td>0.26</td>\n",
       "      <td>NaN</td>\n",
       "      <td>NaN</td>\n",
       "    </tr>\n",
       "    <tr>\n",
       "      <th>23</th>\n",
       "      <td>Argentina</td>\n",
       "      <td>ARG</td>\n",
       "      <td>2018-01-01</td>\n",
       "      <td>Country</td>\n",
       "      <td>South America</td>\n",
       "      <td>Latin America and Caribbean</td>\n",
       "      <td>0.0</td>\n",
       "      <td>0.0</td>\n",
       "      <td>1.0</td>\n",
       "      <td>0.0</td>\n",
       "      <td>Electricity generation</td>\n",
       "      <td>Fuel</td>\n",
       "      <td>Gas</td>\n",
       "      <td>TWh</td>\n",
       "      <td>7.79</td>\n",
       "      <td>NaN</td>\n",
       "      <td>NaN</td>\n",
       "    </tr>\n",
       "    <tr>\n",
       "      <th>24</th>\n",
       "      <td>Argentina</td>\n",
       "      <td>ARG</td>\n",
       "      <td>2018-01-01</td>\n",
       "      <td>Country</td>\n",
       "      <td>South America</td>\n",
       "      <td>Latin America and Caribbean</td>\n",
       "      <td>0.0</td>\n",
       "      <td>0.0</td>\n",
       "      <td>1.0</td>\n",
       "      <td>0.0</td>\n",
       "      <td>Electricity generation</td>\n",
       "      <td>Fuel</td>\n",
       "      <td>Hydro</td>\n",
       "      <td>TWh</td>\n",
       "      <td>3.69</td>\n",
       "      <td>NaN</td>\n",
       "      <td>NaN</td>\n",
       "    </tr>\n",
       "    <tr>\n",
       "      <th>25</th>\n",
       "      <td>Argentina</td>\n",
       "      <td>ARG</td>\n",
       "      <td>2018-01-01</td>\n",
       "      <td>Country</td>\n",
       "      <td>South America</td>\n",
       "      <td>Latin America and Caribbean</td>\n",
       "      <td>0.0</td>\n",
       "      <td>0.0</td>\n",
       "      <td>1.0</td>\n",
       "      <td>0.0</td>\n",
       "      <td>Electricity generation</td>\n",
       "      <td>Fuel</td>\n",
       "      <td>Nuclear</td>\n",
       "      <td>TWh</td>\n",
       "      <td>0.64</td>\n",
       "      <td>NaN</td>\n",
       "      <td>NaN</td>\n",
       "    </tr>\n",
       "    <tr>\n",
       "      <th>26</th>\n",
       "      <td>Argentina</td>\n",
       "      <td>ARG</td>\n",
       "      <td>2018-01-01</td>\n",
       "      <td>Country</td>\n",
       "      <td>South America</td>\n",
       "      <td>Latin America and Caribbean</td>\n",
       "      <td>0.0</td>\n",
       "      <td>0.0</td>\n",
       "      <td>1.0</td>\n",
       "      <td>0.0</td>\n",
       "      <td>Electricity generation</td>\n",
       "      <td>Fuel</td>\n",
       "      <td>Other Fossil</td>\n",
       "      <td>TWh</td>\n",
       "      <td>0.30</td>\n",
       "      <td>NaN</td>\n",
       "      <td>NaN</td>\n",
       "    </tr>\n",
       "    <tr>\n",
       "      <th>27</th>\n",
       "      <td>Argentina</td>\n",
       "      <td>ARG</td>\n",
       "      <td>2018-01-01</td>\n",
       "      <td>Country</td>\n",
       "      <td>South America</td>\n",
       "      <td>Latin America and Caribbean</td>\n",
       "      <td>0.0</td>\n",
       "      <td>0.0</td>\n",
       "      <td>1.0</td>\n",
       "      <td>0.0</td>\n",
       "      <td>Electricity generation</td>\n",
       "      <td>Fuel</td>\n",
       "      <td>Solar</td>\n",
       "      <td>TWh</td>\n",
       "      <td>0.00</td>\n",
       "      <td>NaN</td>\n",
       "      <td>NaN</td>\n",
       "    </tr>\n",
       "    <tr>\n",
       "      <th>28</th>\n",
       "      <td>Argentina</td>\n",
       "      <td>ARG</td>\n",
       "      <td>2018-01-01</td>\n",
       "      <td>Country</td>\n",
       "      <td>South America</td>\n",
       "      <td>Latin America and Caribbean</td>\n",
       "      <td>0.0</td>\n",
       "      <td>0.0</td>\n",
       "      <td>1.0</td>\n",
       "      <td>0.0</td>\n",
       "      <td>Electricity generation</td>\n",
       "      <td>Fuel</td>\n",
       "      <td>Wind</td>\n",
       "      <td>TWh</td>\n",
       "      <td>0.06</td>\n",
       "      <td>NaN</td>\n",
       "      <td>NaN</td>\n",
       "    </tr>\n",
       "    <tr>\n",
       "      <th>29</th>\n",
       "      <td>Argentina</td>\n",
       "      <td>ARG</td>\n",
       "      <td>2018-01-01</td>\n",
       "      <td>Country</td>\n",
       "      <td>South America</td>\n",
       "      <td>Latin America and Caribbean</td>\n",
       "      <td>0.0</td>\n",
       "      <td>0.0</td>\n",
       "      <td>1.0</td>\n",
       "      <td>0.0</td>\n",
       "      <td>Electricity generation</td>\n",
       "      <td>Total</td>\n",
       "      <td>Total Generation</td>\n",
       "      <td>TWh</td>\n",
       "      <td>12.76</td>\n",
       "      <td>NaN</td>\n",
       "      <td>NaN</td>\n",
       "    </tr>\n",
       "    <tr>\n",
       "      <th>30</th>\n",
       "      <td>Argentina</td>\n",
       "      <td>ARG</td>\n",
       "      <td>2018-01-01</td>\n",
       "      <td>Country</td>\n",
       "      <td>South America</td>\n",
       "      <td>Latin America and Caribbean</td>\n",
       "      <td>0.0</td>\n",
       "      <td>0.0</td>\n",
       "      <td>1.0</td>\n",
       "      <td>0.0</td>\n",
       "      <td>Electricity imports</td>\n",
       "      <td>Electricity imports</td>\n",
       "      <td>Net Imports</td>\n",
       "      <td>TWh</td>\n",
       "      <td>0.01</td>\n",
       "      <td>NaN</td>\n",
       "      <td>NaN</td>\n",
       "    </tr>\n",
       "    <tr>\n",
       "      <th>31</th>\n",
       "      <td>Argentina</td>\n",
       "      <td>ARG</td>\n",
       "      <td>2018-01-01</td>\n",
       "      <td>Country</td>\n",
       "      <td>South America</td>\n",
       "      <td>Latin America and Caribbean</td>\n",
       "      <td>0.0</td>\n",
       "      <td>0.0</td>\n",
       "      <td>1.0</td>\n",
       "      <td>0.0</td>\n",
       "      <td>Power sector emissions</td>\n",
       "      <td>Aggregate fuel</td>\n",
       "      <td>Clean</td>\n",
       "      <td>mtCO2</td>\n",
       "      <td>0.10</td>\n",
       "      <td>NaN</td>\n",
       "      <td>NaN</td>\n",
       "    </tr>\n",
       "    <tr>\n",
       "      <th>32</th>\n",
       "      <td>Argentina</td>\n",
       "      <td>ARG</td>\n",
       "      <td>2018-01-01</td>\n",
       "      <td>Country</td>\n",
       "      <td>South America</td>\n",
       "      <td>Latin America and Caribbean</td>\n",
       "      <td>0.0</td>\n",
       "      <td>0.0</td>\n",
       "      <td>1.0</td>\n",
       "      <td>0.0</td>\n",
       "      <td>Power sector emissions</td>\n",
       "      <td>Aggregate fuel</td>\n",
       "      <td>Fossil</td>\n",
       "      <td>mtCO2</td>\n",
       "      <td>4.24</td>\n",
       "      <td>NaN</td>\n",
       "      <td>NaN</td>\n",
       "    </tr>\n",
       "    <tr>\n",
       "      <th>33</th>\n",
       "      <td>Argentina</td>\n",
       "      <td>ARG</td>\n",
       "      <td>2018-01-01</td>\n",
       "      <td>Country</td>\n",
       "      <td>South America</td>\n",
       "      <td>Latin America and Caribbean</td>\n",
       "      <td>0.0</td>\n",
       "      <td>0.0</td>\n",
       "      <td>1.0</td>\n",
       "      <td>0.0</td>\n",
       "      <td>Power sector emissions</td>\n",
       "      <td>Aggregate fuel</td>\n",
       "      <td>Gas and Other Fossil</td>\n",
       "      <td>mtCO2</td>\n",
       "      <td>4.03</td>\n",
       "      <td>NaN</td>\n",
       "      <td>NaN</td>\n",
       "    </tr>\n",
       "    <tr>\n",
       "      <th>34</th>\n",
       "      <td>Argentina</td>\n",
       "      <td>ARG</td>\n",
       "      <td>2018-01-01</td>\n",
       "      <td>Country</td>\n",
       "      <td>South America</td>\n",
       "      <td>Latin America and Caribbean</td>\n",
       "      <td>0.0</td>\n",
       "      <td>0.0</td>\n",
       "      <td>1.0</td>\n",
       "      <td>0.0</td>\n",
       "      <td>Power sector emissions</td>\n",
       "      <td>Aggregate fuel</td>\n",
       "      <td>Hydro, Bioenergy and Other Renewables</td>\n",
       "      <td>mtCO2</td>\n",
       "      <td>0.09</td>\n",
       "      <td>NaN</td>\n",
       "      <td>NaN</td>\n",
       "    </tr>\n",
       "    <tr>\n",
       "      <th>35</th>\n",
       "      <td>Argentina</td>\n",
       "      <td>ARG</td>\n",
       "      <td>2018-01-01</td>\n",
       "      <td>Country</td>\n",
       "      <td>South America</td>\n",
       "      <td>Latin America and Caribbean</td>\n",
       "      <td>0.0</td>\n",
       "      <td>0.0</td>\n",
       "      <td>1.0</td>\n",
       "      <td>0.0</td>\n",
       "      <td>Power sector emissions</td>\n",
       "      <td>Aggregate fuel</td>\n",
       "      <td>Renewables</td>\n",
       "      <td>mtCO2</td>\n",
       "      <td>0.09</td>\n",
       "      <td>NaN</td>\n",
       "      <td>NaN</td>\n",
       "    </tr>\n",
       "    <tr>\n",
       "      <th>36</th>\n",
       "      <td>Argentina</td>\n",
       "      <td>ARG</td>\n",
       "      <td>2018-01-01</td>\n",
       "      <td>Country</td>\n",
       "      <td>South America</td>\n",
       "      <td>Latin America and Caribbean</td>\n",
       "      <td>0.0</td>\n",
       "      <td>0.0</td>\n",
       "      <td>1.0</td>\n",
       "      <td>0.0</td>\n",
       "      <td>Power sector emissions</td>\n",
       "      <td>Aggregate fuel</td>\n",
       "      <td>Wind and Solar</td>\n",
       "      <td>mtCO2</td>\n",
       "      <td>0.00</td>\n",
       "      <td>NaN</td>\n",
       "      <td>NaN</td>\n",
       "    </tr>\n",
       "    <tr>\n",
       "      <th>37</th>\n",
       "      <td>Argentina</td>\n",
       "      <td>ARG</td>\n",
       "      <td>2018-01-01</td>\n",
       "      <td>Country</td>\n",
       "      <td>South America</td>\n",
       "      <td>Latin America and Caribbean</td>\n",
       "      <td>0.0</td>\n",
       "      <td>0.0</td>\n",
       "      <td>1.0</td>\n",
       "      <td>0.0</td>\n",
       "      <td>Power sector emissions</td>\n",
       "      <td>CO2 intensity</td>\n",
       "      <td>CO2 intensity</td>\n",
       "      <td>gCO2/kWh</td>\n",
       "      <td>340.13</td>\n",
       "      <td>NaN</td>\n",
       "      <td>NaN</td>\n",
       "    </tr>\n",
       "    <tr>\n",
       "      <th>38</th>\n",
       "      <td>Argentina</td>\n",
       "      <td>ARG</td>\n",
       "      <td>2018-01-01</td>\n",
       "      <td>Country</td>\n",
       "      <td>South America</td>\n",
       "      <td>Latin America and Caribbean</td>\n",
       "      <td>0.0</td>\n",
       "      <td>0.0</td>\n",
       "      <td>1.0</td>\n",
       "      <td>0.0</td>\n",
       "      <td>Power sector emissions</td>\n",
       "      <td>Fuel</td>\n",
       "      <td>Bioenergy</td>\n",
       "      <td>mtCO2</td>\n",
       "      <td>0.00</td>\n",
       "      <td>NaN</td>\n",
       "      <td>NaN</td>\n",
       "    </tr>\n",
       "    <tr>\n",
       "      <th>39</th>\n",
       "      <td>Argentina</td>\n",
       "      <td>ARG</td>\n",
       "      <td>2018-01-01</td>\n",
       "      <td>Country</td>\n",
       "      <td>South America</td>\n",
       "      <td>Latin America and Caribbean</td>\n",
       "      <td>0.0</td>\n",
       "      <td>0.0</td>\n",
       "      <td>1.0</td>\n",
       "      <td>0.0</td>\n",
       "      <td>Power sector emissions</td>\n",
       "      <td>Fuel</td>\n",
       "      <td>Coal</td>\n",
       "      <td>mtCO2</td>\n",
       "      <td>0.21</td>\n",
       "      <td>NaN</td>\n",
       "      <td>NaN</td>\n",
       "    </tr>\n",
       "    <tr>\n",
       "      <th>40</th>\n",
       "      <td>Argentina</td>\n",
       "      <td>ARG</td>\n",
       "      <td>2018-01-01</td>\n",
       "      <td>Country</td>\n",
       "      <td>South America</td>\n",
       "      <td>Latin America and Caribbean</td>\n",
       "      <td>0.0</td>\n",
       "      <td>0.0</td>\n",
       "      <td>1.0</td>\n",
       "      <td>0.0</td>\n",
       "      <td>Power sector emissions</td>\n",
       "      <td>Fuel</td>\n",
       "      <td>Gas</td>\n",
       "      <td>mtCO2</td>\n",
       "      <td>3.82</td>\n",
       "      <td>NaN</td>\n",
       "      <td>NaN</td>\n",
       "    </tr>\n",
       "    <tr>\n",
       "      <th>41</th>\n",
       "      <td>Argentina</td>\n",
       "      <td>ARG</td>\n",
       "      <td>2018-01-01</td>\n",
       "      <td>Country</td>\n",
       "      <td>South America</td>\n",
       "      <td>Latin America and Caribbean</td>\n",
       "      <td>0.0</td>\n",
       "      <td>0.0</td>\n",
       "      <td>1.0</td>\n",
       "      <td>0.0</td>\n",
       "      <td>Power sector emissions</td>\n",
       "      <td>Fuel</td>\n",
       "      <td>Hydro</td>\n",
       "      <td>mtCO2</td>\n",
       "      <td>0.09</td>\n",
       "      <td>NaN</td>\n",
       "      <td>NaN</td>\n",
       "    </tr>\n",
       "    <tr>\n",
       "      <th>42</th>\n",
       "      <td>Argentina</td>\n",
       "      <td>ARG</td>\n",
       "      <td>2018-01-01</td>\n",
       "      <td>Country</td>\n",
       "      <td>South America</td>\n",
       "      <td>Latin America and Caribbean</td>\n",
       "      <td>0.0</td>\n",
       "      <td>0.0</td>\n",
       "      <td>1.0</td>\n",
       "      <td>0.0</td>\n",
       "      <td>Power sector emissions</td>\n",
       "      <td>Fuel</td>\n",
       "      <td>Nuclear</td>\n",
       "      <td>mtCO2</td>\n",
       "      <td>0.01</td>\n",
       "      <td>NaN</td>\n",
       "      <td>NaN</td>\n",
       "    </tr>\n",
       "    <tr>\n",
       "      <th>43</th>\n",
       "      <td>Argentina</td>\n",
       "      <td>ARG</td>\n",
       "      <td>2018-01-01</td>\n",
       "      <td>Country</td>\n",
       "      <td>South America</td>\n",
       "      <td>Latin America and Caribbean</td>\n",
       "      <td>0.0</td>\n",
       "      <td>0.0</td>\n",
       "      <td>1.0</td>\n",
       "      <td>0.0</td>\n",
       "      <td>Power sector emissions</td>\n",
       "      <td>Fuel</td>\n",
       "      <td>Other Fossil</td>\n",
       "      <td>mtCO2</td>\n",
       "      <td>0.21</td>\n",
       "      <td>NaN</td>\n",
       "      <td>NaN</td>\n",
       "    </tr>\n",
       "    <tr>\n",
       "      <th>44</th>\n",
       "      <td>Argentina</td>\n",
       "      <td>ARG</td>\n",
       "      <td>2018-01-01</td>\n",
       "      <td>Country</td>\n",
       "      <td>South America</td>\n",
       "      <td>Latin America and Caribbean</td>\n",
       "      <td>0.0</td>\n",
       "      <td>0.0</td>\n",
       "      <td>1.0</td>\n",
       "      <td>0.0</td>\n",
       "      <td>Power sector emissions</td>\n",
       "      <td>Fuel</td>\n",
       "      <td>Solar</td>\n",
       "      <td>mtCO2</td>\n",
       "      <td>0.00</td>\n",
       "      <td>NaN</td>\n",
       "      <td>NaN</td>\n",
       "    </tr>\n",
       "    <tr>\n",
       "      <th>45</th>\n",
       "      <td>Argentina</td>\n",
       "      <td>ARG</td>\n",
       "      <td>2018-01-01</td>\n",
       "      <td>Country</td>\n",
       "      <td>South America</td>\n",
       "      <td>Latin America and Caribbean</td>\n",
       "      <td>0.0</td>\n",
       "      <td>0.0</td>\n",
       "      <td>1.0</td>\n",
       "      <td>0.0</td>\n",
       "      <td>Power sector emissions</td>\n",
       "      <td>Fuel</td>\n",
       "      <td>Wind</td>\n",
       "      <td>mtCO2</td>\n",
       "      <td>0.00</td>\n",
       "      <td>NaN</td>\n",
       "      <td>NaN</td>\n",
       "    </tr>\n",
       "    <tr>\n",
       "      <th>46</th>\n",
       "      <td>Argentina</td>\n",
       "      <td>ARG</td>\n",
       "      <td>2018-01-01</td>\n",
       "      <td>Country</td>\n",
       "      <td>South America</td>\n",
       "      <td>Latin America and Caribbean</td>\n",
       "      <td>0.0</td>\n",
       "      <td>0.0</td>\n",
       "      <td>1.0</td>\n",
       "      <td>0.0</td>\n",
       "      <td>Power sector emissions</td>\n",
       "      <td>Total</td>\n",
       "      <td>Total emissions</td>\n",
       "      <td>mtCO2</td>\n",
       "      <td>4.34</td>\n",
       "      <td>NaN</td>\n",
       "      <td>NaN</td>\n",
       "    </tr>\n",
       "    <tr>\n",
       "      <th>47</th>\n",
       "      <td>Argentina</td>\n",
       "      <td>ARG</td>\n",
       "      <td>2018-02-01</td>\n",
       "      <td>Country</td>\n",
       "      <td>South America</td>\n",
       "      <td>Latin America and Caribbean</td>\n",
       "      <td>0.0</td>\n",
       "      <td>0.0</td>\n",
       "      <td>1.0</td>\n",
       "      <td>0.0</td>\n",
       "      <td>Electricity demand</td>\n",
       "      <td>Demand</td>\n",
       "      <td>Demand</td>\n",
       "      <td>TWh</td>\n",
       "      <td>11.77</td>\n",
       "      <td>NaN</td>\n",
       "      <td>NaN</td>\n",
       "    </tr>\n",
       "    <tr>\n",
       "      <th>48</th>\n",
       "      <td>Argentina</td>\n",
       "      <td>ARG</td>\n",
       "      <td>2018-02-01</td>\n",
       "      <td>Country</td>\n",
       "      <td>South America</td>\n",
       "      <td>Latin America and Caribbean</td>\n",
       "      <td>0.0</td>\n",
       "      <td>0.0</td>\n",
       "      <td>1.0</td>\n",
       "      <td>0.0</td>\n",
       "      <td>Electricity generation</td>\n",
       "      <td>Aggregate fuel</td>\n",
       "      <td>Clean</td>\n",
       "      <td>%</td>\n",
       "      <td>33.17</td>\n",
       "      <td>NaN</td>\n",
       "      <td>NaN</td>\n",
       "    </tr>\n",
       "    <tr>\n",
       "      <th>49</th>\n",
       "      <td>Argentina</td>\n",
       "      <td>ARG</td>\n",
       "      <td>2018-02-01</td>\n",
       "      <td>Country</td>\n",
       "      <td>South America</td>\n",
       "      <td>Latin America and Caribbean</td>\n",
       "      <td>0.0</td>\n",
       "      <td>0.0</td>\n",
       "      <td>1.0</td>\n",
       "      <td>0.0</td>\n",
       "      <td>Electricity generation</td>\n",
       "      <td>Aggregate fuel</td>\n",
       "      <td>Fossil</td>\n",
       "      <td>%</td>\n",
       "      <td>66.84</td>\n",
       "      <td>NaN</td>\n",
       "      <td>NaN</td>\n",
       "    </tr>\n",
       "  </tbody>\n",
       "</table>\n",
       "</div>"
      ],
      "text/plain": [
       "         Area Country code       Date Area type      Continent  \\\n",
       "0   Argentina          ARG 2018-01-01   Country  South America   \n",
       "1   Argentina          ARG 2018-01-01   Country  South America   \n",
       "2   Argentina          ARG 2018-01-01   Country  South America   \n",
       "3   Argentina          ARG 2018-01-01   Country  South America   \n",
       "4   Argentina          ARG 2018-01-01   Country  South America   \n",
       "5   Argentina          ARG 2018-01-01   Country  South America   \n",
       "6   Argentina          ARG 2018-01-01   Country  South America   \n",
       "7   Argentina          ARG 2018-01-01   Country  South America   \n",
       "8   Argentina          ARG 2018-01-01   Country  South America   \n",
       "9   Argentina          ARG 2018-01-01   Country  South America   \n",
       "10  Argentina          ARG 2018-01-01   Country  South America   \n",
       "11  Argentina          ARG 2018-01-01   Country  South America   \n",
       "12  Argentina          ARG 2018-01-01   Country  South America   \n",
       "13  Argentina          ARG 2018-01-01   Country  South America   \n",
       "14  Argentina          ARG 2018-01-01   Country  South America   \n",
       "15  Argentina          ARG 2018-01-01   Country  South America   \n",
       "16  Argentina          ARG 2018-01-01   Country  South America   \n",
       "17  Argentina          ARG 2018-01-01   Country  South America   \n",
       "18  Argentina          ARG 2018-01-01   Country  South America   \n",
       "19  Argentina          ARG 2018-01-01   Country  South America   \n",
       "20  Argentina          ARG 2018-01-01   Country  South America   \n",
       "21  Argentina          ARG 2018-01-01   Country  South America   \n",
       "22  Argentina          ARG 2018-01-01   Country  South America   \n",
       "23  Argentina          ARG 2018-01-01   Country  South America   \n",
       "24  Argentina          ARG 2018-01-01   Country  South America   \n",
       "25  Argentina          ARG 2018-01-01   Country  South America   \n",
       "26  Argentina          ARG 2018-01-01   Country  South America   \n",
       "27  Argentina          ARG 2018-01-01   Country  South America   \n",
       "28  Argentina          ARG 2018-01-01   Country  South America   \n",
       "29  Argentina          ARG 2018-01-01   Country  South America   \n",
       "30  Argentina          ARG 2018-01-01   Country  South America   \n",
       "31  Argentina          ARG 2018-01-01   Country  South America   \n",
       "32  Argentina          ARG 2018-01-01   Country  South America   \n",
       "33  Argentina          ARG 2018-01-01   Country  South America   \n",
       "34  Argentina          ARG 2018-01-01   Country  South America   \n",
       "35  Argentina          ARG 2018-01-01   Country  South America   \n",
       "36  Argentina          ARG 2018-01-01   Country  South America   \n",
       "37  Argentina          ARG 2018-01-01   Country  South America   \n",
       "38  Argentina          ARG 2018-01-01   Country  South America   \n",
       "39  Argentina          ARG 2018-01-01   Country  South America   \n",
       "40  Argentina          ARG 2018-01-01   Country  South America   \n",
       "41  Argentina          ARG 2018-01-01   Country  South America   \n",
       "42  Argentina          ARG 2018-01-01   Country  South America   \n",
       "43  Argentina          ARG 2018-01-01   Country  South America   \n",
       "44  Argentina          ARG 2018-01-01   Country  South America   \n",
       "45  Argentina          ARG 2018-01-01   Country  South America   \n",
       "46  Argentina          ARG 2018-01-01   Country  South America   \n",
       "47  Argentina          ARG 2018-02-01   Country  South America   \n",
       "48  Argentina          ARG 2018-02-01   Country  South America   \n",
       "49  Argentina          ARG 2018-02-01   Country  South America   \n",
       "\n",
       "                   Ember region   EU  OECD  G20   G7                Category  \\\n",
       "0   Latin America and Caribbean  0.0   0.0  1.0  0.0      Electricity demand   \n",
       "1   Latin America and Caribbean  0.0   0.0  1.0  0.0  Electricity generation   \n",
       "2   Latin America and Caribbean  0.0   0.0  1.0  0.0  Electricity generation   \n",
       "3   Latin America and Caribbean  0.0   0.0  1.0  0.0  Electricity generation   \n",
       "4   Latin America and Caribbean  0.0   0.0  1.0  0.0  Electricity generation   \n",
       "5   Latin America and Caribbean  0.0   0.0  1.0  0.0  Electricity generation   \n",
       "6   Latin America and Caribbean  0.0   0.0  1.0  0.0  Electricity generation   \n",
       "7   Latin America and Caribbean  0.0   0.0  1.0  0.0  Electricity generation   \n",
       "8   Latin America and Caribbean  0.0   0.0  1.0  0.0  Electricity generation   \n",
       "9   Latin America and Caribbean  0.0   0.0  1.0  0.0  Electricity generation   \n",
       "10  Latin America and Caribbean  0.0   0.0  1.0  0.0  Electricity generation   \n",
       "11  Latin America and Caribbean  0.0   0.0  1.0  0.0  Electricity generation   \n",
       "12  Latin America and Caribbean  0.0   0.0  1.0  0.0  Electricity generation   \n",
       "13  Latin America and Caribbean  0.0   0.0  1.0  0.0  Electricity generation   \n",
       "14  Latin America and Caribbean  0.0   0.0  1.0  0.0  Electricity generation   \n",
       "15  Latin America and Caribbean  0.0   0.0  1.0  0.0  Electricity generation   \n",
       "16  Latin America and Caribbean  0.0   0.0  1.0  0.0  Electricity generation   \n",
       "17  Latin America and Caribbean  0.0   0.0  1.0  0.0  Electricity generation   \n",
       "18  Latin America and Caribbean  0.0   0.0  1.0  0.0  Electricity generation   \n",
       "19  Latin America and Caribbean  0.0   0.0  1.0  0.0  Electricity generation   \n",
       "20  Latin America and Caribbean  0.0   0.0  1.0  0.0  Electricity generation   \n",
       "21  Latin America and Caribbean  0.0   0.0  1.0  0.0  Electricity generation   \n",
       "22  Latin America and Caribbean  0.0   0.0  1.0  0.0  Electricity generation   \n",
       "23  Latin America and Caribbean  0.0   0.0  1.0  0.0  Electricity generation   \n",
       "24  Latin America and Caribbean  0.0   0.0  1.0  0.0  Electricity generation   \n",
       "25  Latin America and Caribbean  0.0   0.0  1.0  0.0  Electricity generation   \n",
       "26  Latin America and Caribbean  0.0   0.0  1.0  0.0  Electricity generation   \n",
       "27  Latin America and Caribbean  0.0   0.0  1.0  0.0  Electricity generation   \n",
       "28  Latin America and Caribbean  0.0   0.0  1.0  0.0  Electricity generation   \n",
       "29  Latin America and Caribbean  0.0   0.0  1.0  0.0  Electricity generation   \n",
       "30  Latin America and Caribbean  0.0   0.0  1.0  0.0     Electricity imports   \n",
       "31  Latin America and Caribbean  0.0   0.0  1.0  0.0  Power sector emissions   \n",
       "32  Latin America and Caribbean  0.0   0.0  1.0  0.0  Power sector emissions   \n",
       "33  Latin America and Caribbean  0.0   0.0  1.0  0.0  Power sector emissions   \n",
       "34  Latin America and Caribbean  0.0   0.0  1.0  0.0  Power sector emissions   \n",
       "35  Latin America and Caribbean  0.0   0.0  1.0  0.0  Power sector emissions   \n",
       "36  Latin America and Caribbean  0.0   0.0  1.0  0.0  Power sector emissions   \n",
       "37  Latin America and Caribbean  0.0   0.0  1.0  0.0  Power sector emissions   \n",
       "38  Latin America and Caribbean  0.0   0.0  1.0  0.0  Power sector emissions   \n",
       "39  Latin America and Caribbean  0.0   0.0  1.0  0.0  Power sector emissions   \n",
       "40  Latin America and Caribbean  0.0   0.0  1.0  0.0  Power sector emissions   \n",
       "41  Latin America and Caribbean  0.0   0.0  1.0  0.0  Power sector emissions   \n",
       "42  Latin America and Caribbean  0.0   0.0  1.0  0.0  Power sector emissions   \n",
       "43  Latin America and Caribbean  0.0   0.0  1.0  0.0  Power sector emissions   \n",
       "44  Latin America and Caribbean  0.0   0.0  1.0  0.0  Power sector emissions   \n",
       "45  Latin America and Caribbean  0.0   0.0  1.0  0.0  Power sector emissions   \n",
       "46  Latin America and Caribbean  0.0   0.0  1.0  0.0  Power sector emissions   \n",
       "47  Latin America and Caribbean  0.0   0.0  1.0  0.0      Electricity demand   \n",
       "48  Latin America and Caribbean  0.0   0.0  1.0  0.0  Electricity generation   \n",
       "49  Latin America and Caribbean  0.0   0.0  1.0  0.0  Electricity generation   \n",
       "\n",
       "            Subcategory                               Variable      Unit  \\\n",
       "0                Demand                                 Demand       TWh   \n",
       "1        Aggregate fuel                                  Clean         %   \n",
       "2        Aggregate fuel                                 Fossil         %   \n",
       "3        Aggregate fuel                   Gas and Other Fossil         %   \n",
       "4        Aggregate fuel  Hydro, Bioenergy and Other Renewables         %   \n",
       "5        Aggregate fuel                             Renewables         %   \n",
       "6        Aggregate fuel                         Wind and Solar         %   \n",
       "7        Aggregate fuel                                  Clean       TWh   \n",
       "8        Aggregate fuel                                 Fossil       TWh   \n",
       "9        Aggregate fuel                   Gas and Other Fossil       TWh   \n",
       "10       Aggregate fuel  Hydro, Bioenergy and Other Renewables       TWh   \n",
       "11       Aggregate fuel                             Renewables       TWh   \n",
       "12       Aggregate fuel                         Wind and Solar       TWh   \n",
       "13                 Fuel                              Bioenergy         %   \n",
       "14                 Fuel                                   Coal         %   \n",
       "15                 Fuel                                    Gas         %   \n",
       "16                 Fuel                                  Hydro         %   \n",
       "17                 Fuel                                Nuclear         %   \n",
       "18                 Fuel                           Other Fossil         %   \n",
       "19                 Fuel                                  Solar         %   \n",
       "20                 Fuel                                   Wind         %   \n",
       "21                 Fuel                              Bioenergy       TWh   \n",
       "22                 Fuel                                   Coal       TWh   \n",
       "23                 Fuel                                    Gas       TWh   \n",
       "24                 Fuel                                  Hydro       TWh   \n",
       "25                 Fuel                                Nuclear       TWh   \n",
       "26                 Fuel                           Other Fossil       TWh   \n",
       "27                 Fuel                                  Solar       TWh   \n",
       "28                 Fuel                                   Wind       TWh   \n",
       "29                Total                       Total Generation       TWh   \n",
       "30  Electricity imports                            Net Imports       TWh   \n",
       "31       Aggregate fuel                                  Clean     mtCO2   \n",
       "32       Aggregate fuel                                 Fossil     mtCO2   \n",
       "33       Aggregate fuel                   Gas and Other Fossil     mtCO2   \n",
       "34       Aggregate fuel  Hydro, Bioenergy and Other Renewables     mtCO2   \n",
       "35       Aggregate fuel                             Renewables     mtCO2   \n",
       "36       Aggregate fuel                         Wind and Solar     mtCO2   \n",
       "37        CO2 intensity                          CO2 intensity  gCO2/kWh   \n",
       "38                 Fuel                              Bioenergy     mtCO2   \n",
       "39                 Fuel                                   Coal     mtCO2   \n",
       "40                 Fuel                                    Gas     mtCO2   \n",
       "41                 Fuel                                  Hydro     mtCO2   \n",
       "42                 Fuel                                Nuclear     mtCO2   \n",
       "43                 Fuel                           Other Fossil     mtCO2   \n",
       "44                 Fuel                                  Solar     mtCO2   \n",
       "45                 Fuel                                   Wind     mtCO2   \n",
       "46                Total                        Total emissions     mtCO2   \n",
       "47               Demand                                 Demand       TWh   \n",
       "48       Aggregate fuel                                  Clean         %   \n",
       "49       Aggregate fuel                                 Fossil         %   \n",
       "\n",
       "     Value  YoY absolute change  YoY % change  \n",
       "0    12.77                  NaN           NaN  \n",
       "1    34.57                  NaN           NaN  \n",
       "2    65.44                  NaN           NaN  \n",
       "3    63.40                  NaN           NaN  \n",
       "4    29.08                  NaN           NaN  \n",
       "5    29.55                  NaN           NaN  \n",
       "6     0.47                  NaN           NaN  \n",
       "7     4.41                  NaN           NaN  \n",
       "8     8.35                  NaN           NaN  \n",
       "9     8.09                  NaN           NaN  \n",
       "10    3.71                  NaN           NaN  \n",
       "11    3.77                  NaN           NaN  \n",
       "12    0.06                  NaN           NaN  \n",
       "13    0.16                  NaN           NaN  \n",
       "14    2.04                  NaN           NaN  \n",
       "15   61.05                  NaN           NaN  \n",
       "16   28.92                  NaN           NaN  \n",
       "17    5.02                  NaN           NaN  \n",
       "18    2.35                  NaN           NaN  \n",
       "19    0.00                  NaN           NaN  \n",
       "20    0.47                  NaN           NaN  \n",
       "21    0.02                  NaN           NaN  \n",
       "22    0.26                  NaN           NaN  \n",
       "23    7.79                  NaN           NaN  \n",
       "24    3.69                  NaN           NaN  \n",
       "25    0.64                  NaN           NaN  \n",
       "26    0.30                  NaN           NaN  \n",
       "27    0.00                  NaN           NaN  \n",
       "28    0.06                  NaN           NaN  \n",
       "29   12.76                  NaN           NaN  \n",
       "30    0.01                  NaN           NaN  \n",
       "31    0.10                  NaN           NaN  \n",
       "32    4.24                  NaN           NaN  \n",
       "33    4.03                  NaN           NaN  \n",
       "34    0.09                  NaN           NaN  \n",
       "35    0.09                  NaN           NaN  \n",
       "36    0.00                  NaN           NaN  \n",
       "37  340.13                  NaN           NaN  \n",
       "38    0.00                  NaN           NaN  \n",
       "39    0.21                  NaN           NaN  \n",
       "40    3.82                  NaN           NaN  \n",
       "41    0.09                  NaN           NaN  \n",
       "42    0.01                  NaN           NaN  \n",
       "43    0.21                  NaN           NaN  \n",
       "44    0.00                  NaN           NaN  \n",
       "45    0.00                  NaN           NaN  \n",
       "46    4.34                  NaN           NaN  \n",
       "47   11.77                  NaN           NaN  \n",
       "48   33.17                  NaN           NaN  \n",
       "49   66.84                  NaN           NaN  "
      ]
     },
     "execution_count": 3,
     "metadata": {},
     "output_type": "execute_result"
    }
   ],
   "source": [
    "df.head(50)"
   ]
  },
  {
   "cell_type": "code",
   "execution_count": 4,
   "metadata": {},
   "outputs": [
    {
     "name": "stdout",
     "output_type": "stream",
     "text": [
      "<class 'pandas.core.frame.DataFrame'>\n",
      "RangeIndex: 329776 entries, 0 to 329775\n",
      "Data columns (total 17 columns):\n",
      " #   Column               Non-Null Count   Dtype         \n",
      "---  ------               --------------   -----         \n",
      " 0   Area                 329776 non-null  object        \n",
      " 1   Country code         300776 non-null  object        \n",
      " 2   Date                 329776 non-null  datetime64[ns]\n",
      " 3   Area type            329776 non-null  object        \n",
      " 4   Continent            300776 non-null  object        \n",
      " 5   Ember region         300776 non-null  object        \n",
      " 6   EU                   300776 non-null  float64       \n",
      " 7   OECD                 300776 non-null  float64       \n",
      " 8   G20                  300776 non-null  float64       \n",
      " 9   G7                   300776 non-null  float64       \n",
      " 10  Category             329776 non-null  object        \n",
      " 11  Subcategory          329776 non-null  object        \n",
      " 12  Variable             329776 non-null  object        \n",
      " 13  Unit                 329776 non-null  object        \n",
      " 14  Value                329181 non-null  float64       \n",
      " 15  YoY absolute change  197737 non-null  float64       \n",
      " 16  YoY % change         151137 non-null  float64       \n",
      "dtypes: datetime64[ns](1), float64(7), object(9)\n",
      "memory usage: 42.8+ MB\n"
     ]
    }
   ],
   "source": [
    "df.info()"
   ]
  },
  {
   "cell_type": "code",
   "execution_count": 5,
   "metadata": {},
   "outputs": [
    {
     "name": "stdout",
     "output_type": "stream",
     "text": [
      "Australia                   12496\n",
      "United States of America    12372\n",
      "Azerbaijan                   8000\n",
      "Belarus                      8000\n",
      "Armenia                      8000\n",
      "                            ...  \n",
      "Costa Rica                   1476\n",
      "Georgia                      1344\n",
      "Taiwan                       1320\n",
      "Burundi                      1170\n",
      "Kosovo                        600\n",
      "Name: Area, Length: 85, dtype: int64\n",
      "AUS    12496\n",
      "USA    12372\n",
      "ARM     8000\n",
      "BLR     8000\n",
      "AZE     8000\n",
      "       ...  \n",
      "CRI     1476\n",
      "GEO     1344\n",
      "TWN     1320\n",
      "BDI     1170\n",
      "XKX      600\n",
      "Name: Country code, Length: 76, dtype: int64\n",
      "2021-09-01    4044\n",
      "2021-08-01    4044\n",
      "2021-10-01    4018\n",
      "2021-11-01    4013\n",
      "2020-10-01    3994\n",
      "              ... \n",
      "1999-10-01      44\n",
      "1999-08-01      44\n",
      "1999-06-01      44\n",
      "1999-01-01      44\n",
      "1999-09-01      44\n",
      "Name: Date, Length: 284, dtype: int64\n",
      "Country    300776\n",
      "Region      29000\n",
      "Name: Area type, dtype: int64\n",
      "Europe           155649\n",
      "Asia              56342\n",
      "Africa            29091\n",
      "North America     25137\n",
      "Oceania           19052\n",
      "South America     15505\n",
      "Name: Continent, dtype: int64\n",
      "Europe                         158394\n",
      "Asia                            53597\n",
      "Africa                          29091\n",
      "Latin America and Caribbean     20885\n",
      "North America                   19757\n",
      "Oceania                         19052\n",
      "Name: Ember region, dtype: int64\n",
      "0.0    186723\n",
      "1.0    114053\n",
      "Name: EU, dtype: int64\n",
      "1.0    162929\n",
      "0.0    137847\n",
      "Name: OECD, dtype: int64\n",
      "0.0    226083\n",
      "1.0     74693\n",
      "Name: G20, dtype: int64\n",
      "0.0    261333\n",
      "1.0     39443\n",
      "Name: G7, dtype: int64\n",
      "Electricity generation    201798\n",
      "Power sector emissions    111447\n",
      "Electricity demand          7032\n",
      "Electricity imports         7032\n",
      "Electricity prices          2467\n",
      "Name: Category, dtype: int64\n",
      "Fuel                           169413\n",
      "Aggregate fuel                 122736\n",
      "Total                           14064\n",
      "CO2 intensity                    7032\n",
      "Electricity imports              7032\n",
      "Demand                           7032\n",
      "Day-ahead electricity price      2467\n",
      "Name: Subcategory, dtype: int64\n",
      "Fossil                                   21135\n",
      "Renewables                               20523\n",
      "Clean                                    20523\n",
      "Wind and Solar                           20388\n",
      "Gas and Other Fossil                     20325\n",
      "Gas                                      20082\n",
      "Hydro                                    19842\n",
      "Hydro, Bioenergy and Other Renewables    19842\n",
      "Coal                                     19788\n",
      "Wind                                     19782\n",
      "Other Fossil                             19782\n",
      "Bioenergy                                18744\n",
      "Solar                                    18705\n",
      "Nuclear                                  16635\n",
      "Other Renewables                         16053\n",
      "Net Imports                               7032\n",
      "Total Generation                          7032\n",
      "Total emissions                           7032\n",
      "Demand                                    7032\n",
      "CO2 intensity                             7032\n",
      "Day-ahead electricity price               2467\n",
      "Name: Variable, dtype: int64\n",
      "TWh         118479\n",
      "mtCO2       104415\n",
      "%            97383\n",
      "gCO2/kWh      7032\n",
      "EUR/MWh       2467\n",
      "Name: Unit, dtype: int64\n",
      "0.00      69666\n",
      "0.01      12034\n",
      "0.02       7036\n",
      "0.03       5279\n",
      "0.04       4061\n",
      "          ...  \n",
      "106.74        1\n",
      "203.88        1\n",
      "68.08         1\n",
      "469.10        1\n",
      "149.85        1\n",
      "Name: Value, Length: 21533, dtype: int64\n",
      " 0.00      64917\n",
      " 0.01      12057\n",
      "-0.01       8111\n",
      " 0.02       6018\n",
      " 0.03       4125\n",
      "           ...  \n",
      "-12.31         1\n",
      "-36.96         1\n",
      " 28.30         1\n",
      "-24.56         1\n",
      "-122.69        1\n",
      "Name: YoY absolute change, Length: 7580, dtype: int64\n",
      " 0.00      22034\n",
      " 100.00     2082\n",
      " 50.00      1761\n",
      " 33.33      1391\n",
      "-100.00     1264\n",
      "           ...  \n",
      " 232.69        1\n",
      " 229.63        1\n",
      " 44.13         1\n",
      " 43.52         1\n",
      " 62.02         1\n",
      "Name: YoY % change, Length: 12184, dtype: int64\n"
     ]
    }
   ],
   "source": [
    "for x in list(df.columns):\n",
    "    print(df[x].value_counts())"
   ]
  },
  {
   "cell_type": "code",
   "execution_count": 6,
   "metadata": {},
   "outputs": [
    {
     "data": {
      "text/plain": [
       "['Area',\n",
       " 'Country code',\n",
       " 'Date',\n",
       " 'Area type',\n",
       " 'Continent',\n",
       " 'Ember region',\n",
       " 'EU',\n",
       " 'OECD',\n",
       " 'G20',\n",
       " 'G7',\n",
       " 'Category',\n",
       " 'Subcategory',\n",
       " 'Variable',\n",
       " 'Unit',\n",
       " 'Value',\n",
       " 'YoY absolute change',\n",
       " 'YoY % change']"
      ]
     },
     "execution_count": 6,
     "metadata": {},
     "output_type": "execute_result"
    }
   ],
   "source": [
    "list(df.columns)"
   ]
  },
  {
   "cell_type": "code",
   "execution_count": 7,
   "metadata": {},
   "outputs": [
    {
     "data": {
      "text/plain": [
       "Australia                   12496\n",
       "United States of America    12372\n",
       "Azerbaijan                   8000\n",
       "Belarus                      8000\n",
       "Armenia                      8000\n",
       "                            ...  \n",
       "Costa Rica                   1476\n",
       "Georgia                      1344\n",
       "Taiwan                       1320\n",
       "Burundi                      1170\n",
       "Kosovo                        600\n",
       "Name: Area, Length: 85, dtype: int64"
      ]
     },
     "execution_count": 7,
     "metadata": {},
     "output_type": "execute_result"
    }
   ],
   "source": [
    "df.Area.value_counts()"
   ]
  },
  {
   "cell_type": "code",
   "execution_count": 8,
   "metadata": {},
   "outputs": [
    {
     "data": {
      "text/plain": [
       "Country    300776\n",
       "Region      29000\n",
       "Name: Area type, dtype: int64"
      ]
     },
     "execution_count": 8,
     "metadata": {},
     "output_type": "execute_result"
    }
   ],
   "source": [
    "df['Area type'].value_counts()"
   ]
  },
  {
   "cell_type": "code",
   "execution_count": 9,
   "metadata": {},
   "outputs": [],
   "source": [
    "df = df.loc[df['Area type'] == 'Country'].copy()"
   ]
  },
  {
   "cell_type": "code",
   "execution_count": 10,
   "metadata": {},
   "outputs": [
    {
     "data": {
      "text/plain": [
       "Area                        0\n",
       "Country code                0\n",
       "Date                        0\n",
       "Area type                   0\n",
       "Continent                   0\n",
       "Ember region                0\n",
       "EU                          0\n",
       "OECD                        0\n",
       "G20                         0\n",
       "G7                          0\n",
       "Category                    0\n",
       "Subcategory                 0\n",
       "Variable                    0\n",
       "Unit                        0\n",
       "Value                       0\n",
       "YoY absolute change    119067\n",
       "YoY % change           165619\n",
       "dtype: int64"
      ]
     },
     "execution_count": 10,
     "metadata": {},
     "output_type": "execute_result"
    }
   ],
   "source": [
    "df.isna().sum()"
   ]
  },
  {
   "cell_type": "code",
   "execution_count": 11,
   "metadata": {},
   "outputs": [
    {
     "data": {
      "text/html": [
       "<div>\n",
       "<style scoped>\n",
       "    .dataframe tbody tr th:only-of-type {\n",
       "        vertical-align: middle;\n",
       "    }\n",
       "\n",
       "    .dataframe tbody tr th {\n",
       "        vertical-align: top;\n",
       "    }\n",
       "\n",
       "    .dataframe thead th {\n",
       "        text-align: right;\n",
       "    }\n",
       "</style>\n",
       "<table border=\"1\" class=\"dataframe\">\n",
       "  <thead>\n",
       "    <tr style=\"text-align: right;\">\n",
       "      <th></th>\n",
       "      <th>Area</th>\n",
       "      <th>Country code</th>\n",
       "      <th>Date</th>\n",
       "      <th>Area type</th>\n",
       "      <th>Continent</th>\n",
       "      <th>Ember region</th>\n",
       "      <th>EU</th>\n",
       "      <th>OECD</th>\n",
       "      <th>G20</th>\n",
       "      <th>G7</th>\n",
       "      <th>Category</th>\n",
       "      <th>Subcategory</th>\n",
       "      <th>Variable</th>\n",
       "      <th>Unit</th>\n",
       "      <th>Value</th>\n",
       "    </tr>\n",
       "  </thead>\n",
       "  <tbody>\n",
       "    <tr>\n",
       "      <th>0</th>\n",
       "      <td>Argentina</td>\n",
       "      <td>ARG</td>\n",
       "      <td>2018-01-01</td>\n",
       "      <td>Country</td>\n",
       "      <td>South America</td>\n",
       "      <td>Latin America and Caribbean</td>\n",
       "      <td>0.0</td>\n",
       "      <td>0.0</td>\n",
       "      <td>1.0</td>\n",
       "      <td>0.0</td>\n",
       "      <td>Electricity demand</td>\n",
       "      <td>Demand</td>\n",
       "      <td>Demand</td>\n",
       "      <td>TWh</td>\n",
       "      <td>12.77</td>\n",
       "    </tr>\n",
       "    <tr>\n",
       "      <th>1</th>\n",
       "      <td>Argentina</td>\n",
       "      <td>ARG</td>\n",
       "      <td>2018-01-01</td>\n",
       "      <td>Country</td>\n",
       "      <td>South America</td>\n",
       "      <td>Latin America and Caribbean</td>\n",
       "      <td>0.0</td>\n",
       "      <td>0.0</td>\n",
       "      <td>1.0</td>\n",
       "      <td>0.0</td>\n",
       "      <td>Electricity generation</td>\n",
       "      <td>Aggregate fuel</td>\n",
       "      <td>Clean</td>\n",
       "      <td>%</td>\n",
       "      <td>34.57</td>\n",
       "    </tr>\n",
       "    <tr>\n",
       "      <th>2</th>\n",
       "      <td>Argentina</td>\n",
       "      <td>ARG</td>\n",
       "      <td>2018-01-01</td>\n",
       "      <td>Country</td>\n",
       "      <td>South America</td>\n",
       "      <td>Latin America and Caribbean</td>\n",
       "      <td>0.0</td>\n",
       "      <td>0.0</td>\n",
       "      <td>1.0</td>\n",
       "      <td>0.0</td>\n",
       "      <td>Electricity generation</td>\n",
       "      <td>Aggregate fuel</td>\n",
       "      <td>Fossil</td>\n",
       "      <td>%</td>\n",
       "      <td>65.44</td>\n",
       "    </tr>\n",
       "    <tr>\n",
       "      <th>3</th>\n",
       "      <td>Argentina</td>\n",
       "      <td>ARG</td>\n",
       "      <td>2018-01-01</td>\n",
       "      <td>Country</td>\n",
       "      <td>South America</td>\n",
       "      <td>Latin America and Caribbean</td>\n",
       "      <td>0.0</td>\n",
       "      <td>0.0</td>\n",
       "      <td>1.0</td>\n",
       "      <td>0.0</td>\n",
       "      <td>Electricity generation</td>\n",
       "      <td>Aggregate fuel</td>\n",
       "      <td>Gas and Other Fossil</td>\n",
       "      <td>%</td>\n",
       "      <td>63.40</td>\n",
       "    </tr>\n",
       "    <tr>\n",
       "      <th>4</th>\n",
       "      <td>Argentina</td>\n",
       "      <td>ARG</td>\n",
       "      <td>2018-01-01</td>\n",
       "      <td>Country</td>\n",
       "      <td>South America</td>\n",
       "      <td>Latin America and Caribbean</td>\n",
       "      <td>0.0</td>\n",
       "      <td>0.0</td>\n",
       "      <td>1.0</td>\n",
       "      <td>0.0</td>\n",
       "      <td>Electricity generation</td>\n",
       "      <td>Aggregate fuel</td>\n",
       "      <td>Hydro, Bioenergy and Other Renewables</td>\n",
       "      <td>%</td>\n",
       "      <td>29.08</td>\n",
       "    </tr>\n",
       "    <tr>\n",
       "      <th>...</th>\n",
       "      <td>...</td>\n",
       "      <td>...</td>\n",
       "      <td>...</td>\n",
       "      <td>...</td>\n",
       "      <td>...</td>\n",
       "      <td>...</td>\n",
       "      <td>...</td>\n",
       "      <td>...</td>\n",
       "      <td>...</td>\n",
       "      <td>...</td>\n",
       "      <td>...</td>\n",
       "      <td>...</td>\n",
       "      <td>...</td>\n",
       "      <td>...</td>\n",
       "      <td>...</td>\n",
       "    </tr>\n",
       "    <tr>\n",
       "      <th>327721</th>\n",
       "      <td>Viet Nam</td>\n",
       "      <td>VNM</td>\n",
       "      <td>2022-06-01</td>\n",
       "      <td>Country</td>\n",
       "      <td>Asia</td>\n",
       "      <td>Asia</td>\n",
       "      <td>0.0</td>\n",
       "      <td>0.0</td>\n",
       "      <td>0.0</td>\n",
       "      <td>0.0</td>\n",
       "      <td>Power sector emissions</td>\n",
       "      <td>Fuel</td>\n",
       "      <td>Hydro</td>\n",
       "      <td>mtCO2</td>\n",
       "      <td>0.27</td>\n",
       "    </tr>\n",
       "    <tr>\n",
       "      <th>327722</th>\n",
       "      <td>Viet Nam</td>\n",
       "      <td>VNM</td>\n",
       "      <td>2022-06-01</td>\n",
       "      <td>Country</td>\n",
       "      <td>Asia</td>\n",
       "      <td>Asia</td>\n",
       "      <td>0.0</td>\n",
       "      <td>0.0</td>\n",
       "      <td>0.0</td>\n",
       "      <td>0.0</td>\n",
       "      <td>Power sector emissions</td>\n",
       "      <td>Fuel</td>\n",
       "      <td>Other Fossil</td>\n",
       "      <td>mtCO2</td>\n",
       "      <td>0.00</td>\n",
       "    </tr>\n",
       "    <tr>\n",
       "      <th>327723</th>\n",
       "      <td>Viet Nam</td>\n",
       "      <td>VNM</td>\n",
       "      <td>2022-06-01</td>\n",
       "      <td>Country</td>\n",
       "      <td>Asia</td>\n",
       "      <td>Asia</td>\n",
       "      <td>0.0</td>\n",
       "      <td>0.0</td>\n",
       "      <td>0.0</td>\n",
       "      <td>0.0</td>\n",
       "      <td>Power sector emissions</td>\n",
       "      <td>Fuel</td>\n",
       "      <td>Solar</td>\n",
       "      <td>mtCO2</td>\n",
       "      <td>0.12</td>\n",
       "    </tr>\n",
       "    <tr>\n",
       "      <th>327724</th>\n",
       "      <td>Viet Nam</td>\n",
       "      <td>VNM</td>\n",
       "      <td>2022-06-01</td>\n",
       "      <td>Country</td>\n",
       "      <td>Asia</td>\n",
       "      <td>Asia</td>\n",
       "      <td>0.0</td>\n",
       "      <td>0.0</td>\n",
       "      <td>0.0</td>\n",
       "      <td>0.0</td>\n",
       "      <td>Power sector emissions</td>\n",
       "      <td>Fuel</td>\n",
       "      <td>Wind</td>\n",
       "      <td>mtCO2</td>\n",
       "      <td>0.01</td>\n",
       "    </tr>\n",
       "    <tr>\n",
       "      <th>327725</th>\n",
       "      <td>Viet Nam</td>\n",
       "      <td>VNM</td>\n",
       "      <td>2022-06-01</td>\n",
       "      <td>Country</td>\n",
       "      <td>Asia</td>\n",
       "      <td>Asia</td>\n",
       "      <td>0.0</td>\n",
       "      <td>0.0</td>\n",
       "      <td>0.0</td>\n",
       "      <td>0.0</td>\n",
       "      <td>Power sector emissions</td>\n",
       "      <td>Total</td>\n",
       "      <td>Total emissions</td>\n",
       "      <td>mtCO2</td>\n",
       "      <td>7.79</td>\n",
       "    </tr>\n",
       "  </tbody>\n",
       "</table>\n",
       "<p>300776 rows × 15 columns</p>\n",
       "</div>"
      ],
      "text/plain": [
       "             Area Country code       Date Area type      Continent  \\\n",
       "0       Argentina          ARG 2018-01-01   Country  South America   \n",
       "1       Argentina          ARG 2018-01-01   Country  South America   \n",
       "2       Argentina          ARG 2018-01-01   Country  South America   \n",
       "3       Argentina          ARG 2018-01-01   Country  South America   \n",
       "4       Argentina          ARG 2018-01-01   Country  South America   \n",
       "...           ...          ...        ...       ...            ...   \n",
       "327721   Viet Nam          VNM 2022-06-01   Country           Asia   \n",
       "327722   Viet Nam          VNM 2022-06-01   Country           Asia   \n",
       "327723   Viet Nam          VNM 2022-06-01   Country           Asia   \n",
       "327724   Viet Nam          VNM 2022-06-01   Country           Asia   \n",
       "327725   Viet Nam          VNM 2022-06-01   Country           Asia   \n",
       "\n",
       "                       Ember region   EU  OECD  G20   G7  \\\n",
       "0       Latin America and Caribbean  0.0   0.0  1.0  0.0   \n",
       "1       Latin America and Caribbean  0.0   0.0  1.0  0.0   \n",
       "2       Latin America and Caribbean  0.0   0.0  1.0  0.0   \n",
       "3       Latin America and Caribbean  0.0   0.0  1.0  0.0   \n",
       "4       Latin America and Caribbean  0.0   0.0  1.0  0.0   \n",
       "...                             ...  ...   ...  ...  ...   \n",
       "327721                         Asia  0.0   0.0  0.0  0.0   \n",
       "327722                         Asia  0.0   0.0  0.0  0.0   \n",
       "327723                         Asia  0.0   0.0  0.0  0.0   \n",
       "327724                         Asia  0.0   0.0  0.0  0.0   \n",
       "327725                         Asia  0.0   0.0  0.0  0.0   \n",
       "\n",
       "                      Category     Subcategory  \\\n",
       "0           Electricity demand          Demand   \n",
       "1       Electricity generation  Aggregate fuel   \n",
       "2       Electricity generation  Aggregate fuel   \n",
       "3       Electricity generation  Aggregate fuel   \n",
       "4       Electricity generation  Aggregate fuel   \n",
       "...                        ...             ...   \n",
       "327721  Power sector emissions            Fuel   \n",
       "327722  Power sector emissions            Fuel   \n",
       "327723  Power sector emissions            Fuel   \n",
       "327724  Power sector emissions            Fuel   \n",
       "327725  Power sector emissions           Total   \n",
       "\n",
       "                                     Variable   Unit  Value  \n",
       "0                                      Demand    TWh  12.77  \n",
       "1                                       Clean      %  34.57  \n",
       "2                                      Fossil      %  65.44  \n",
       "3                        Gas and Other Fossil      %  63.40  \n",
       "4       Hydro, Bioenergy and Other Renewables      %  29.08  \n",
       "...                                       ...    ...    ...  \n",
       "327721                                  Hydro  mtCO2   0.27  \n",
       "327722                           Other Fossil  mtCO2   0.00  \n",
       "327723                                  Solar  mtCO2   0.12  \n",
       "327724                                   Wind  mtCO2   0.01  \n",
       "327725                        Total emissions  mtCO2   7.79  \n",
       "\n",
       "[300776 rows x 15 columns]"
      ]
     },
     "execution_count": 11,
     "metadata": {},
     "output_type": "execute_result"
    }
   ],
   "source": [
    "df.drop(columns=['YoY absolute change', 'YoY % change'], inplace=True)\n",
    "\n",
    "df"
   ]
  },
  {
   "cell_type": "code",
   "execution_count": 12,
   "metadata": {},
   "outputs": [
    {
     "data": {
      "text/html": [
       "<div>\n",
       "<style scoped>\n",
       "    .dataframe tbody tr th:only-of-type {\n",
       "        vertical-align: middle;\n",
       "    }\n",
       "\n",
       "    .dataframe tbody tr th {\n",
       "        vertical-align: top;\n",
       "    }\n",
       "\n",
       "    .dataframe thead th {\n",
       "        text-align: right;\n",
       "    }\n",
       "</style>\n",
       "<table border=\"1\" class=\"dataframe\">\n",
       "  <thead>\n",
       "    <tr style=\"text-align: right;\">\n",
       "      <th></th>\n",
       "      <th>Area</th>\n",
       "      <th>Country code</th>\n",
       "      <th>Date</th>\n",
       "      <th>Area type</th>\n",
       "      <th>Continent</th>\n",
       "      <th>Ember region</th>\n",
       "      <th>EU</th>\n",
       "      <th>OECD</th>\n",
       "      <th>G20</th>\n",
       "      <th>G7</th>\n",
       "      <th>Category</th>\n",
       "      <th>Subcategory</th>\n",
       "      <th>Variable</th>\n",
       "      <th>Unit</th>\n",
       "      <th>Value</th>\n",
       "    </tr>\n",
       "  </thead>\n",
       "  <tbody>\n",
       "    <tr>\n",
       "      <th>0</th>\n",
       "      <td>Argentina</td>\n",
       "      <td>ARG</td>\n",
       "      <td>2018-01-01</td>\n",
       "      <td>Country</td>\n",
       "      <td>South America</td>\n",
       "      <td>Latin America and Caribbean</td>\n",
       "      <td>0.0</td>\n",
       "      <td>0.0</td>\n",
       "      <td>1.0</td>\n",
       "      <td>0.0</td>\n",
       "      <td>Electricity demand</td>\n",
       "      <td>Demand</td>\n",
       "      <td>Demand</td>\n",
       "      <td>TWh</td>\n",
       "      <td>12.77</td>\n",
       "    </tr>\n",
       "    <tr>\n",
       "      <th>1</th>\n",
       "      <td>Argentina</td>\n",
       "      <td>ARG</td>\n",
       "      <td>2018-01-01</td>\n",
       "      <td>Country</td>\n",
       "      <td>South America</td>\n",
       "      <td>Latin America and Caribbean</td>\n",
       "      <td>0.0</td>\n",
       "      <td>0.0</td>\n",
       "      <td>1.0</td>\n",
       "      <td>0.0</td>\n",
       "      <td>Electricity generation</td>\n",
       "      <td>Aggregate fuel</td>\n",
       "      <td>Clean</td>\n",
       "      <td>%</td>\n",
       "      <td>34.57</td>\n",
       "    </tr>\n",
       "    <tr>\n",
       "      <th>2</th>\n",
       "      <td>Argentina</td>\n",
       "      <td>ARG</td>\n",
       "      <td>2018-01-01</td>\n",
       "      <td>Country</td>\n",
       "      <td>South America</td>\n",
       "      <td>Latin America and Caribbean</td>\n",
       "      <td>0.0</td>\n",
       "      <td>0.0</td>\n",
       "      <td>1.0</td>\n",
       "      <td>0.0</td>\n",
       "      <td>Electricity generation</td>\n",
       "      <td>Aggregate fuel</td>\n",
       "      <td>Fossil</td>\n",
       "      <td>%</td>\n",
       "      <td>65.44</td>\n",
       "    </tr>\n",
       "    <tr>\n",
       "      <th>3</th>\n",
       "      <td>Argentina</td>\n",
       "      <td>ARG</td>\n",
       "      <td>2018-01-01</td>\n",
       "      <td>Country</td>\n",
       "      <td>South America</td>\n",
       "      <td>Latin America and Caribbean</td>\n",
       "      <td>0.0</td>\n",
       "      <td>0.0</td>\n",
       "      <td>1.0</td>\n",
       "      <td>0.0</td>\n",
       "      <td>Electricity generation</td>\n",
       "      <td>Aggregate fuel</td>\n",
       "      <td>Gas and Other Fossil</td>\n",
       "      <td>%</td>\n",
       "      <td>63.40</td>\n",
       "    </tr>\n",
       "    <tr>\n",
       "      <th>4</th>\n",
       "      <td>Argentina</td>\n",
       "      <td>ARG</td>\n",
       "      <td>2018-01-01</td>\n",
       "      <td>Country</td>\n",
       "      <td>South America</td>\n",
       "      <td>Latin America and Caribbean</td>\n",
       "      <td>0.0</td>\n",
       "      <td>0.0</td>\n",
       "      <td>1.0</td>\n",
       "      <td>0.0</td>\n",
       "      <td>Electricity generation</td>\n",
       "      <td>Aggregate fuel</td>\n",
       "      <td>Hydro, Bioenergy and Other Renewables</td>\n",
       "      <td>%</td>\n",
       "      <td>29.08</td>\n",
       "    </tr>\n",
       "  </tbody>\n",
       "</table>\n",
       "</div>"
      ],
      "text/plain": [
       "        Area Country code       Date Area type      Continent  \\\n",
       "0  Argentina          ARG 2018-01-01   Country  South America   \n",
       "1  Argentina          ARG 2018-01-01   Country  South America   \n",
       "2  Argentina          ARG 2018-01-01   Country  South America   \n",
       "3  Argentina          ARG 2018-01-01   Country  South America   \n",
       "4  Argentina          ARG 2018-01-01   Country  South America   \n",
       "\n",
       "                  Ember region   EU  OECD  G20   G7                Category  \\\n",
       "0  Latin America and Caribbean  0.0   0.0  1.0  0.0      Electricity demand   \n",
       "1  Latin America and Caribbean  0.0   0.0  1.0  0.0  Electricity generation   \n",
       "2  Latin America and Caribbean  0.0   0.0  1.0  0.0  Electricity generation   \n",
       "3  Latin America and Caribbean  0.0   0.0  1.0  0.0  Electricity generation   \n",
       "4  Latin America and Caribbean  0.0   0.0  1.0  0.0  Electricity generation   \n",
       "\n",
       "      Subcategory                               Variable Unit  Value  \n",
       "0          Demand                                 Demand  TWh  12.77  \n",
       "1  Aggregate fuel                                  Clean    %  34.57  \n",
       "2  Aggregate fuel                                 Fossil    %  65.44  \n",
       "3  Aggregate fuel                   Gas and Other Fossil    %  63.40  \n",
       "4  Aggregate fuel  Hydro, Bioenergy and Other Renewables    %  29.08  "
      ]
     },
     "execution_count": 12,
     "metadata": {},
     "output_type": "execute_result"
    }
   ],
   "source": [
    "df.head()"
   ]
  },
  {
   "cell_type": "code",
   "execution_count": 13,
   "metadata": {},
   "outputs": [
    {
     "data": {
      "text/plain": [
       "Area            0\n",
       "Country code    0\n",
       "Date            0\n",
       "Area type       0\n",
       "Continent       0\n",
       "Ember region    0\n",
       "EU              0\n",
       "OECD            0\n",
       "G20             0\n",
       "G7              0\n",
       "Category        0\n",
       "Subcategory     0\n",
       "Variable        0\n",
       "Unit            0\n",
       "Value           0\n",
       "dtype: int64"
      ]
     },
     "execution_count": 13,
     "metadata": {},
     "output_type": "execute_result"
    }
   ],
   "source": [
    "df.isna().sum()"
   ]
  },
  {
   "cell_type": "code",
   "execution_count": 14,
   "metadata": {
    "scrolled": true
   },
   "outputs": [
    {
     "data": {
      "text/plain": [
       "Australia                   12496\n",
       "United States of America    12372\n",
       "Azerbaijan                   8000\n",
       "Armenia                      8000\n",
       "Belarus                      8000\n",
       "                            ...  \n",
       "Costa Rica                   1476\n",
       "Georgia                      1344\n",
       "Taiwan                       1320\n",
       "Burundi                      1170\n",
       "Kosovo                        600\n",
       "Name: Area, Length: 76, dtype: int64"
      ]
     },
     "execution_count": 14,
     "metadata": {},
     "output_type": "execute_result"
    }
   ],
   "source": [
    "df.Area.value_counts()"
   ]
  },
  {
   "cell_type": "code",
   "execution_count": 15,
   "metadata": {
    "scrolled": false
   },
   "outputs": [
    {
     "data": {
      "text/html": [
       "<div>\n",
       "<style scoped>\n",
       "    .dataframe tbody tr th:only-of-type {\n",
       "        vertical-align: middle;\n",
       "    }\n",
       "\n",
       "    .dataframe tbody tr th {\n",
       "        vertical-align: top;\n",
       "    }\n",
       "\n",
       "    .dataframe thead th {\n",
       "        text-align: right;\n",
       "    }\n",
       "</style>\n",
       "<table border=\"1\" class=\"dataframe\">\n",
       "  <thead>\n",
       "    <tr style=\"text-align: right;\">\n",
       "      <th></th>\n",
       "      <th>Area</th>\n",
       "      <th>Country code</th>\n",
       "      <th>Date</th>\n",
       "      <th>Area type</th>\n",
       "      <th>Continent</th>\n",
       "      <th>Ember region</th>\n",
       "      <th>EU</th>\n",
       "      <th>OECD</th>\n",
       "      <th>G20</th>\n",
       "      <th>G7</th>\n",
       "      <th>Category</th>\n",
       "      <th>Subcategory</th>\n",
       "      <th>Variable</th>\n",
       "      <th>Unit</th>\n",
       "      <th>Value</th>\n",
       "    </tr>\n",
       "  </thead>\n",
       "  <tbody>\n",
       "    <tr>\n",
       "      <th>0</th>\n",
       "      <td>Argentina</td>\n",
       "      <td>ARG</td>\n",
       "      <td>2018-01-01</td>\n",
       "      <td>Country</td>\n",
       "      <td>South America</td>\n",
       "      <td>Latin America and Caribbean</td>\n",
       "      <td>0.0</td>\n",
       "      <td>0.0</td>\n",
       "      <td>1.0</td>\n",
       "      <td>0.0</td>\n",
       "      <td>Electricity demand</td>\n",
       "      <td>Demand</td>\n",
       "      <td>Demand</td>\n",
       "      <td>TWh</td>\n",
       "      <td>12.77</td>\n",
       "    </tr>\n",
       "    <tr>\n",
       "      <th>1</th>\n",
       "      <td>Argentina</td>\n",
       "      <td>ARG</td>\n",
       "      <td>2018-01-01</td>\n",
       "      <td>Country</td>\n",
       "      <td>South America</td>\n",
       "      <td>Latin America and Caribbean</td>\n",
       "      <td>0.0</td>\n",
       "      <td>0.0</td>\n",
       "      <td>1.0</td>\n",
       "      <td>0.0</td>\n",
       "      <td>Electricity generation</td>\n",
       "      <td>Aggregate fuel</td>\n",
       "      <td>Clean</td>\n",
       "      <td>%</td>\n",
       "      <td>34.57</td>\n",
       "    </tr>\n",
       "    <tr>\n",
       "      <th>2</th>\n",
       "      <td>Argentina</td>\n",
       "      <td>ARG</td>\n",
       "      <td>2018-01-01</td>\n",
       "      <td>Country</td>\n",
       "      <td>South America</td>\n",
       "      <td>Latin America and Caribbean</td>\n",
       "      <td>0.0</td>\n",
       "      <td>0.0</td>\n",
       "      <td>1.0</td>\n",
       "      <td>0.0</td>\n",
       "      <td>Electricity generation</td>\n",
       "      <td>Aggregate fuel</td>\n",
       "      <td>Fossil</td>\n",
       "      <td>%</td>\n",
       "      <td>65.44</td>\n",
       "    </tr>\n",
       "    <tr>\n",
       "      <th>3</th>\n",
       "      <td>Argentina</td>\n",
       "      <td>ARG</td>\n",
       "      <td>2018-01-01</td>\n",
       "      <td>Country</td>\n",
       "      <td>South America</td>\n",
       "      <td>Latin America and Caribbean</td>\n",
       "      <td>0.0</td>\n",
       "      <td>0.0</td>\n",
       "      <td>1.0</td>\n",
       "      <td>0.0</td>\n",
       "      <td>Electricity generation</td>\n",
       "      <td>Aggregate fuel</td>\n",
       "      <td>Gas and Other Fossil</td>\n",
       "      <td>%</td>\n",
       "      <td>63.40</td>\n",
       "    </tr>\n",
       "    <tr>\n",
       "      <th>4</th>\n",
       "      <td>Argentina</td>\n",
       "      <td>ARG</td>\n",
       "      <td>2018-01-01</td>\n",
       "      <td>Country</td>\n",
       "      <td>South America</td>\n",
       "      <td>Latin America and Caribbean</td>\n",
       "      <td>0.0</td>\n",
       "      <td>0.0</td>\n",
       "      <td>1.0</td>\n",
       "      <td>0.0</td>\n",
       "      <td>Electricity generation</td>\n",
       "      <td>Aggregate fuel</td>\n",
       "      <td>Hydro, Bioenergy and Other Renewables</td>\n",
       "      <td>%</td>\n",
       "      <td>29.08</td>\n",
       "    </tr>\n",
       "  </tbody>\n",
       "</table>\n",
       "</div>"
      ],
      "text/plain": [
       "        Area Country code       Date Area type      Continent  \\\n",
       "0  Argentina          ARG 2018-01-01   Country  South America   \n",
       "1  Argentina          ARG 2018-01-01   Country  South America   \n",
       "2  Argentina          ARG 2018-01-01   Country  South America   \n",
       "3  Argentina          ARG 2018-01-01   Country  South America   \n",
       "4  Argentina          ARG 2018-01-01   Country  South America   \n",
       "\n",
       "                  Ember region   EU  OECD  G20   G7                Category  \\\n",
       "0  Latin America and Caribbean  0.0   0.0  1.0  0.0      Electricity demand   \n",
       "1  Latin America and Caribbean  0.0   0.0  1.0  0.0  Electricity generation   \n",
       "2  Latin America and Caribbean  0.0   0.0  1.0  0.0  Electricity generation   \n",
       "3  Latin America and Caribbean  0.0   0.0  1.0  0.0  Electricity generation   \n",
       "4  Latin America and Caribbean  0.0   0.0  1.0  0.0  Electricity generation   \n",
       "\n",
       "      Subcategory                               Variable Unit  Value  \n",
       "0          Demand                                 Demand  TWh  12.77  \n",
       "1  Aggregate fuel                                  Clean    %  34.57  \n",
       "2  Aggregate fuel                                 Fossil    %  65.44  \n",
       "3  Aggregate fuel                   Gas and Other Fossil    %  63.40  \n",
       "4  Aggregate fuel  Hydro, Bioenergy and Other Renewables    %  29.08  "
      ]
     },
     "execution_count": 15,
     "metadata": {},
     "output_type": "execute_result"
    }
   ],
   "source": [
    "df.head()"
   ]
  },
  {
   "cell_type": "code",
   "execution_count": 16,
   "metadata": {},
   "outputs": [
    {
     "data": {
      "text/plain": [
       "0         2018.0\n",
       "1         2018.0\n",
       "2         2018.0\n",
       "3         2018.0\n",
       "4         2018.0\n",
       "           ...  \n",
       "327721    2022.0\n",
       "327722    2022.0\n",
       "327723    2022.0\n",
       "327724    2022.0\n",
       "327725    2022.0\n",
       "Name: Date_year, Length: 300776, dtype: float64"
      ]
     },
     "execution_count": 16,
     "metadata": {},
     "output_type": "execute_result"
    }
   ],
   "source": [
    "df['Date_year'] = df.Date.dt.year.astype(float)\n",
    "\n",
    "df['Date_year']"
   ]
  },
  {
   "cell_type": "code",
   "execution_count": 17,
   "metadata": {},
   "outputs": [
    {
     "data": {
      "text/plain": [
       "0         1.0\n",
       "1         1.0\n",
       "2         1.0\n",
       "3         1.0\n",
       "4         1.0\n",
       "         ... \n",
       "327721    6.0\n",
       "327722    6.0\n",
       "327723    6.0\n",
       "327724    6.0\n",
       "327725    6.0\n",
       "Name: Date_month, Length: 300776, dtype: float64"
      ]
     },
     "execution_count": 17,
     "metadata": {},
     "output_type": "execute_result"
    }
   ],
   "source": [
    "df['Date_month'] = df.Date.dt.month.astype(float)\n",
    "df['Date_month']"
   ]
  },
  {
   "cell_type": "code",
   "execution_count": 18,
   "metadata": {},
   "outputs": [],
   "source": [
    "relevant_col = ['Date_year', 'Date_month','Ember region',\n",
    "                'EU', 'OECD', 'G20', 'G7',\n",
    "                'Category', 'Subcategory','Variable',\n",
    "                'Value']"
   ]
  },
  {
   "cell_type": "code",
   "execution_count": 19,
   "metadata": {},
   "outputs": [],
   "source": [
    "X = df[relevant_col]\n",
    "y = df['Area']"
   ]
  },
  {
   "cell_type": "code",
   "execution_count": 20,
   "metadata": {},
   "outputs": [
    {
     "name": "stdout",
     "output_type": "stream",
     "text": [
      "<class 'pandas.core.frame.DataFrame'>\n",
      "Int64Index: 300776 entries, 0 to 327725\n",
      "Data columns (total 11 columns):\n",
      " #   Column        Non-Null Count   Dtype  \n",
      "---  ------        --------------   -----  \n",
      " 0   Date_year     300776 non-null  float64\n",
      " 1   Date_month    300776 non-null  float64\n",
      " 2   Ember region  300776 non-null  object \n",
      " 3   EU            300776 non-null  float64\n",
      " 4   OECD          300776 non-null  float64\n",
      " 5   G20           300776 non-null  float64\n",
      " 6   G7            300776 non-null  float64\n",
      " 7   Category      300776 non-null  object \n",
      " 8   Subcategory   300776 non-null  object \n",
      " 9   Variable      300776 non-null  object \n",
      " 10  Value         300776 non-null  float64\n",
      "dtypes: float64(7), object(4)\n",
      "memory usage: 27.5+ MB\n"
     ]
    }
   ],
   "source": [
    "X.info()"
   ]
  },
  {
   "cell_type": "code",
   "execution_count": 21,
   "metadata": {},
   "outputs": [],
   "source": [
    "X_train, X_test, y_train, y_test = train_test_split(X, y, test_size=0.2, \n",
    "                                                    random_state=42)"
   ]
  },
  {
   "cell_type": "code",
   "execution_count": 22,
   "metadata": {},
   "outputs": [],
   "source": [
    "X_train_nums = X_train[['Date_year', 'Date_month', 'Value']]\n",
    "\n",
    "ss = StandardScaler()\n",
    "\n",
    "ss.fit(X_train_nums)\n",
    "nums_df = pd.DataFrame(ss.transform(X_train_nums),\n",
    "                      index=X_train_nums.index)"
   ]
  },
  {
   "cell_type": "code",
   "execution_count": 23,
   "metadata": {},
   "outputs": [],
   "source": [
    "X_train_cat = X_train.select_dtypes('object')\n",
    "\n",
    "ohe = OneHotEncoder(\n",
    "    drop='first',\n",
    "    sparse=False)\n",
    "\n",
    "dums = ohe.fit_transform(X_train_cat)\n",
    "dums_df = pd.DataFrame(dums,\n",
    "                       columns=ohe.get_feature_names(),\n",
    "                       index=X_train_cat.index)"
   ]
  },
  {
   "cell_type": "code",
   "execution_count": 24,
   "metadata": {},
   "outputs": [],
   "source": [
    "X_train_group = X_train[['EU', 'OECD', 'G20', 'G7']]\n",
    "\n",
    "grouping_df = pd.DataFrame(X_train_group,\n",
    "                           index=X_train_group.index)"
   ]
  },
  {
   "cell_type": "code",
   "execution_count": 25,
   "metadata": {},
   "outputs": [],
   "source": [
    "X_train_clean = pd.concat([nums_df, dums_df, grouping_df], axis=1)"
   ]
  },
  {
   "cell_type": "code",
   "execution_count": 26,
   "metadata": {},
   "outputs": [
    {
     "data": {
      "text/plain": [
       "Index([                                         0,\n",
       "                                                1,\n",
       "                                                2,\n",
       "                                        'x0_Asia',\n",
       "                                      'x0_Europe',\n",
       "                 'x0_Latin America and Caribbean',\n",
       "                               'x0_North America',\n",
       "                                     'x0_Oceania',\n",
       "                      'x1_Electricity generation',\n",
       "                         'x1_Electricity imports',\n",
       "                          'x1_Electricity prices',\n",
       "                      'x1_Power sector emissions',\n",
       "                               'x2_CO2 intensity',\n",
       "                 'x2_Day-ahead electricity price',\n",
       "                                      'x2_Demand',\n",
       "                         'x2_Electricity imports',\n",
       "                                        'x2_Fuel',\n",
       "                                       'x2_Total',\n",
       "                               'x3_CO2 intensity',\n",
       "                                       'x3_Clean',\n",
       "                                        'x3_Coal',\n",
       "                 'x3_Day-ahead electricity price',\n",
       "                                      'x3_Demand',\n",
       "                                      'x3_Fossil',\n",
       "                                         'x3_Gas',\n",
       "                        'x3_Gas and Other Fossil',\n",
       "                                       'x3_Hydro',\n",
       "       'x3_Hydro, Bioenergy and Other Renewables',\n",
       "                                 'x3_Net Imports',\n",
       "                                     'x3_Nuclear',\n",
       "                                'x3_Other Fossil',\n",
       "                            'x3_Other Renewables',\n",
       "                                  'x3_Renewables',\n",
       "                                       'x3_Solar',\n",
       "                            'x3_Total Generation',\n",
       "                             'x3_Total emissions',\n",
       "                                        'x3_Wind',\n",
       "                              'x3_Wind and Solar',\n",
       "                                             'EU',\n",
       "                                           'OECD',\n",
       "                                            'G20',\n",
       "                                             'G7'],\n",
       "      dtype='object')"
      ]
     },
     "execution_count": 26,
     "metadata": {},
     "output_type": "execute_result"
    }
   ],
   "source": [
    "X_train_clean.columns"
   ]
  },
  {
   "cell_type": "markdown",
   "metadata": {
    "heading_collapsed": true,
    "hidden": true
   },
   "source": [
    "#### Preparing the Test Set"
   ]
  },
  {
   "cell_type": "code",
   "execution_count": 27,
   "metadata": {
    "ExecuteTime": {
     "end_time": "2022-04-13T14:54:53.772070Z",
     "start_time": "2022-04-13T14:54:53.766754Z"
    },
    "hidden": true
   },
   "outputs": [],
   "source": [
    "X_test_cat = X_test.select_dtypes('object')\n",
    "\n",
    "test_dums = ohe.transform(X_test_cat)\n",
    "test_dums_df = pd.DataFrame(test_dums,\n",
    "                       columns=ohe.get_feature_names(),\n",
    "                      index=X_test_cat.index)"
   ]
  },
  {
   "cell_type": "code",
   "execution_count": 28,
   "metadata": {
    "ExecuteTime": {
     "end_time": "2022-04-13T14:54:53.779766Z",
     "start_time": "2022-04-13T14:54:53.774327Z"
    },
    "hidden": true
   },
   "outputs": [],
   "source": [
    "X_test_nums = X_test[['Date_year', 'Date_month', 'Value']]\n",
    "\n",
    "test_nums = ss.transform(X_test_nums)\n",
    "test_nums_df = pd.DataFrame(test_nums,\n",
    "                           index=X_test_nums.index)"
   ]
  },
  {
   "cell_type": "code",
   "execution_count": 29,
   "metadata": {},
   "outputs": [],
   "source": [
    "X_test_group = X_test[['EU', 'OECD', 'G20', 'G7']]\n",
    "\n",
    "grouping_df = pd.DataFrame(X_test_group,\n",
    "                           index=X_test_group.index)"
   ]
  },
  {
   "cell_type": "code",
   "execution_count": 30,
   "metadata": {
    "ExecuteTime": {
     "end_time": "2022-04-13T14:54:53.785004Z",
     "start_time": "2022-04-13T14:54:53.782032Z"
    },
    "hidden": true
   },
   "outputs": [],
   "source": [
    "X_test_clean = pd.concat([test_nums_df,\n",
    "                 test_dums_df, grouping_df], axis=1)"
   ]
  },
  {
   "cell_type": "code",
   "execution_count": 31,
   "metadata": {
    "ExecuteTime": {
     "end_time": "2022-04-13T14:54:53.797689Z",
     "start_time": "2022-04-13T14:54:53.786844Z"
    },
    "hidden": true
   },
   "outputs": [
    {
     "data": {
      "text/html": [
       "<div>\n",
       "<style scoped>\n",
       "    .dataframe tbody tr th:only-of-type {\n",
       "        vertical-align: middle;\n",
       "    }\n",
       "\n",
       "    .dataframe tbody tr th {\n",
       "        vertical-align: top;\n",
       "    }\n",
       "\n",
       "    .dataframe thead th {\n",
       "        text-align: right;\n",
       "    }\n",
       "</style>\n",
       "<table border=\"1\" class=\"dataframe\">\n",
       "  <thead>\n",
       "    <tr style=\"text-align: right;\">\n",
       "      <th></th>\n",
       "      <th>0</th>\n",
       "      <th>1</th>\n",
       "      <th>2</th>\n",
       "      <th>x0_Asia</th>\n",
       "      <th>x0_Europe</th>\n",
       "      <th>x0_Latin America and Caribbean</th>\n",
       "      <th>x0_North America</th>\n",
       "      <th>x0_Oceania</th>\n",
       "      <th>x1_Electricity generation</th>\n",
       "      <th>x1_Electricity imports</th>\n",
       "      <th>...</th>\n",
       "      <th>x3_Renewables</th>\n",
       "      <th>x3_Solar</th>\n",
       "      <th>x3_Total Generation</th>\n",
       "      <th>x3_Total emissions</th>\n",
       "      <th>x3_Wind</th>\n",
       "      <th>x3_Wind and Solar</th>\n",
       "      <th>EU</th>\n",
       "      <th>OECD</th>\n",
       "      <th>G20</th>\n",
       "      <th>G7</th>\n",
       "    </tr>\n",
       "  </thead>\n",
       "  <tbody>\n",
       "    <tr>\n",
       "      <th>102499</th>\n",
       "      <td>0.166758</td>\n",
       "      <td>0.197847</td>\n",
       "      <td>-0.254408</td>\n",
       "      <td>0.0</td>\n",
       "      <td>0.0</td>\n",
       "      <td>0.0</td>\n",
       "      <td>0.0</td>\n",
       "      <td>0.0</td>\n",
       "      <td>1.0</td>\n",
       "      <td>0.0</td>\n",
       "      <td>...</td>\n",
       "      <td>0.0</td>\n",
       "      <td>0.0</td>\n",
       "      <td>0.0</td>\n",
       "      <td>0.0</td>\n",
       "      <td>0.0</td>\n",
       "      <td>0.0</td>\n",
       "      <td>0.0</td>\n",
       "      <td>0.0</td>\n",
       "      <td>0.0</td>\n",
       "      <td>0.0</td>\n",
       "    </tr>\n",
       "    <tr>\n",
       "      <th>269462</th>\n",
       "      <td>0.901324</td>\n",
       "      <td>-0.092560</td>\n",
       "      <td>-0.274046</td>\n",
       "      <td>0.0</td>\n",
       "      <td>0.0</td>\n",
       "      <td>0.0</td>\n",
       "      <td>0.0</td>\n",
       "      <td>0.0</td>\n",
       "      <td>0.0</td>\n",
       "      <td>0.0</td>\n",
       "      <td>...</td>\n",
       "      <td>0.0</td>\n",
       "      <td>0.0</td>\n",
       "      <td>0.0</td>\n",
       "      <td>0.0</td>\n",
       "      <td>0.0</td>\n",
       "      <td>1.0</td>\n",
       "      <td>0.0</td>\n",
       "      <td>0.0</td>\n",
       "      <td>1.0</td>\n",
       "      <td>0.0</td>\n",
       "    </tr>\n",
       "    <tr>\n",
       "      <th>165952</th>\n",
       "      <td>-0.322954</td>\n",
       "      <td>-0.963782</td>\n",
       "      <td>-0.270259</td>\n",
       "      <td>0.0</td>\n",
       "      <td>1.0</td>\n",
       "      <td>0.0</td>\n",
       "      <td>0.0</td>\n",
       "      <td>0.0</td>\n",
       "      <td>1.0</td>\n",
       "      <td>0.0</td>\n",
       "      <td>...</td>\n",
       "      <td>0.0</td>\n",
       "      <td>0.0</td>\n",
       "      <td>0.0</td>\n",
       "      <td>0.0</td>\n",
       "      <td>0.0</td>\n",
       "      <td>0.0</td>\n",
       "      <td>1.0</td>\n",
       "      <td>1.0</td>\n",
       "      <td>0.0</td>\n",
       "      <td>0.0</td>\n",
       "    </tr>\n",
       "    <tr>\n",
       "      <th>181199</th>\n",
       "      <td>1.146180</td>\n",
       "      <td>-0.673375</td>\n",
       "      <td>5.658619</td>\n",
       "      <td>0.0</td>\n",
       "      <td>0.0</td>\n",
       "      <td>1.0</td>\n",
       "      <td>0.0</td>\n",
       "      <td>0.0</td>\n",
       "      <td>0.0</td>\n",
       "      <td>0.0</td>\n",
       "      <td>...</td>\n",
       "      <td>0.0</td>\n",
       "      <td>0.0</td>\n",
       "      <td>0.0</td>\n",
       "      <td>0.0</td>\n",
       "      <td>0.0</td>\n",
       "      <td>0.0</td>\n",
       "      <td>0.0</td>\n",
       "      <td>1.0</td>\n",
       "      <td>1.0</td>\n",
       "      <td>0.0</td>\n",
       "    </tr>\n",
       "    <tr>\n",
       "      <th>100130</th>\n",
       "      <td>-0.812665</td>\n",
       "      <td>0.197847</td>\n",
       "      <td>-0.274467</td>\n",
       "      <td>0.0</td>\n",
       "      <td>0.0</td>\n",
       "      <td>0.0</td>\n",
       "      <td>0.0</td>\n",
       "      <td>0.0</td>\n",
       "      <td>0.0</td>\n",
       "      <td>0.0</td>\n",
       "      <td>...</td>\n",
       "      <td>0.0</td>\n",
       "      <td>0.0</td>\n",
       "      <td>0.0</td>\n",
       "      <td>0.0</td>\n",
       "      <td>0.0</td>\n",
       "      <td>0.0</td>\n",
       "      <td>0.0</td>\n",
       "      <td>0.0</td>\n",
       "      <td>0.0</td>\n",
       "      <td>0.0</td>\n",
       "    </tr>\n",
       "  </tbody>\n",
       "</table>\n",
       "<p>5 rows × 42 columns</p>\n",
       "</div>"
      ],
      "text/plain": [
       "               0         1         2  x0_Asia  x0_Europe  \\\n",
       "102499  0.166758  0.197847 -0.254408      0.0        0.0   \n",
       "269462  0.901324 -0.092560 -0.274046      0.0        0.0   \n",
       "165952 -0.322954 -0.963782 -0.270259      0.0        1.0   \n",
       "181199  1.146180 -0.673375  5.658619      0.0        0.0   \n",
       "100130 -0.812665  0.197847 -0.274467      0.0        0.0   \n",
       "\n",
       "        x0_Latin America and Caribbean  x0_North America  x0_Oceania  \\\n",
       "102499                             0.0               0.0         0.0   \n",
       "269462                             0.0               0.0         0.0   \n",
       "165952                             0.0               0.0         0.0   \n",
       "181199                             1.0               0.0         0.0   \n",
       "100130                             0.0               0.0         0.0   \n",
       "\n",
       "        x1_Electricity generation  x1_Electricity imports  ...  x3_Renewables  \\\n",
       "102499                        1.0                     0.0  ...            0.0   \n",
       "269462                        0.0                     0.0  ...            0.0   \n",
       "165952                        1.0                     0.0  ...            0.0   \n",
       "181199                        0.0                     0.0  ...            0.0   \n",
       "100130                        0.0                     0.0  ...            0.0   \n",
       "\n",
       "        x3_Solar  x3_Total Generation  x3_Total emissions  x3_Wind  \\\n",
       "102499       0.0                  0.0                 0.0      0.0   \n",
       "269462       0.0                  0.0                 0.0      0.0   \n",
       "165952       0.0                  0.0                 0.0      0.0   \n",
       "181199       0.0                  0.0                 0.0      0.0   \n",
       "100130       0.0                  0.0                 0.0      0.0   \n",
       "\n",
       "        x3_Wind and Solar   EU  OECD  G20   G7  \n",
       "102499                0.0  0.0   0.0  0.0  0.0  \n",
       "269462                1.0  0.0   0.0  1.0  0.0  \n",
       "165952                0.0  1.0   1.0  0.0  0.0  \n",
       "181199                0.0  0.0   1.0  1.0  0.0  \n",
       "100130                0.0  0.0   0.0  0.0  0.0  \n",
       "\n",
       "[5 rows x 42 columns]"
      ]
     },
     "execution_count": 31,
     "metadata": {},
     "output_type": "execute_result"
    }
   ],
   "source": [
    "X_test_clean.head()"
   ]
  },
  {
   "cell_type": "code",
   "execution_count": 32,
   "metadata": {
    "hidden": true
   },
   "outputs": [
    {
     "data": {
      "text/plain": [
       "KNeighborsClassifier()"
      ]
     },
     "execution_count": 32,
     "metadata": {},
     "output_type": "execute_result"
    }
   ],
   "source": [
    "knn = KNeighborsClassifier()\n",
    "\n",
    "knn.fit(X_train_clean, y_train)"
   ]
  },
  {
   "cell_type": "code",
   "execution_count": 33,
   "metadata": {},
   "outputs": [
    {
     "data": {
      "text/plain": [
       "0.5391862688055856"
      ]
     },
     "execution_count": 33,
     "metadata": {},
     "output_type": "execute_result"
    }
   ],
   "source": [
    "knn.score(X_train_clean, y_train)"
   ]
  },
  {
   "cell_type": "code",
   "execution_count": 34,
   "metadata": {},
   "outputs": [
    {
     "data": {
      "text/plain": [
       "0.3503723651838553"
      ]
     },
     "execution_count": 34,
     "metadata": {},
     "output_type": "execute_result"
    }
   ],
   "source": [
    "knn.score(X_test_clean, y_test)"
   ]
  },
  {
   "cell_type": "markdown",
   "metadata": {
    "heading_collapsed": true,
    "hidden": true
   },
   "source": [
    "##### Decreasing $k$"
   ]
  },
  {
   "cell_type": "code",
   "execution_count": 35,
   "metadata": {
    "hidden": true
   },
   "outputs": [
    {
     "data": {
      "text/plain": [
       "KNeighborsClassifier(n_neighbors=3)"
      ]
     },
     "execution_count": 35,
     "metadata": {},
     "output_type": "execute_result"
    }
   ],
   "source": [
    "knn3 = KNeighborsClassifier(n_neighbors=3)\n",
    "\n",
    "knn3.fit(X_train_clean, y_train)"
   ]
  },
  {
   "cell_type": "code",
   "execution_count": 36,
   "metadata": {},
   "outputs": [
    {
     "data": {
      "text/plain": [
       "0.5571856038567036"
      ]
     },
     "execution_count": 36,
     "metadata": {},
     "output_type": "execute_result"
    }
   ],
   "source": [
    "knn3.score(X_train_clean, y_train)"
   ]
  },
  {
   "cell_type": "code",
   "execution_count": 37,
   "metadata": {},
   "outputs": [
    {
     "data": {
      "text/plain": [
       "0.3279805838154133"
      ]
     },
     "execution_count": 37,
     "metadata": {},
     "output_type": "execute_result"
    }
   ],
   "source": [
    "knn3.score(X_test_clean, y_test)"
   ]
  },
  {
   "cell_type": "markdown",
   "metadata": {
    "heading_collapsed": true,
    "hidden": true
   },
   "source": [
    "#### Decision Tree"
   ]
  },
  {
   "cell_type": "code",
   "execution_count": 38,
   "metadata": {
    "hidden": true
   },
   "outputs": [
    {
     "data": {
      "text/plain": [
       "DecisionTreeClassifier(random_state=42)"
      ]
     },
     "execution_count": 38,
     "metadata": {},
     "output_type": "execute_result"
    }
   ],
   "source": [
    "dt = DecisionTreeClassifier(random_state=42)\n",
    "\n",
    "dt.fit(X_train_clean, y_train)"
   ]
  },
  {
   "cell_type": "code",
   "execution_count": 39,
   "metadata": {
    "scrolled": true
   },
   "outputs": [
    {
     "data": {
      "text/plain": [
       "0.8612501038982628"
      ]
     },
     "execution_count": 39,
     "metadata": {},
     "output_type": "execute_result"
    }
   ],
   "source": [
    "dt.score(X_train_clean, y_train)"
   ]
  },
  {
   "cell_type": "code",
   "execution_count": 40,
   "metadata": {},
   "outputs": [
    {
     "data": {
      "text/plain": [
       "0.6053261520047876"
      ]
     },
     "execution_count": 40,
     "metadata": {},
     "output_type": "execute_result"
    }
   ],
   "source": [
    "dt.score(X_test_clean, y_test)"
   ]
  },
  {
   "cell_type": "markdown",
   "metadata": {
    "heading_collapsed": true,
    "hidden": true
   },
   "source": [
    "##### Changing the branching criterion"
   ]
  },
  {
   "cell_type": "code",
   "execution_count": 41,
   "metadata": {
    "hidden": true
   },
   "outputs": [
    {
     "data": {
      "text/plain": [
       "DecisionTreeClassifier(criterion='entropy', random_state=42)"
      ]
     },
     "execution_count": 41,
     "metadata": {},
     "output_type": "execute_result"
    }
   ],
   "source": [
    "dtb = DecisionTreeClassifier(random_state=42, criterion='entropy')\n",
    "\n",
    "dtb.fit(X_train_clean, y_train)"
   ]
  },
  {
   "cell_type": "code",
   "execution_count": 42,
   "metadata": {},
   "outputs": [
    {
     "data": {
      "text/plain": [
       "0.8612501038982628"
      ]
     },
     "execution_count": 42,
     "metadata": {},
     "output_type": "execute_result"
    }
   ],
   "source": [
    "dtb.score(X_train_clean, y_train)"
   ]
  },
  {
   "cell_type": "code",
   "execution_count": 43,
   "metadata": {
    "scrolled": true
   },
   "outputs": [
    {
     "data": {
      "text/plain": [
       "0.606140700844471"
      ]
     },
     "execution_count": 43,
     "metadata": {},
     "output_type": "execute_result"
    }
   ],
   "source": [
    "dtb.score(X_test_clean, y_test)"
   ]
  },
  {
   "cell_type": "markdown",
   "metadata": {},
   "source": [
    "# Looking at EU VS Non-EU"
   ]
  },
  {
   "cell_type": "code",
   "execution_count": 48,
   "metadata": {},
   "outputs": [],
   "source": [
    "filter_EU = df['EU'] == 1\n",
    "filter_no_EU = df['EU'] == 0"
   ]
  },
  {
   "cell_type": "code",
   "execution_count": 49,
   "metadata": {},
   "outputs": [],
   "source": [
    "df_eu = df[filter_EU]\n",
    "df_no_eu = df[filter_no_EU]"
   ]
  },
  {
   "cell_type": "code",
   "execution_count": 50,
   "metadata": {},
   "outputs": [],
   "source": [
    "relevant_col = ['Date_year', 'Date_month','Ember region',\n",
    "                'Category', 'Subcategory','Variable',\n",
    "                'Value']"
   ]
  },
  {
   "cell_type": "code",
   "execution_count": 51,
   "metadata": {},
   "outputs": [],
   "source": [
    "X_eu = df_eu[relevant_col]\n",
    "y_eu = df_eu['Area']"
   ]
  },
  {
   "cell_type": "code",
   "execution_count": 52,
   "metadata": {},
   "outputs": [],
   "source": [
    "X_no_eu = df_no_eu[relevant_col]\n",
    "y_no_eu = df_no_eu['Area']"
   ]
  },
  {
   "cell_type": "code",
   "execution_count": 53,
   "metadata": {},
   "outputs": [
    {
     "name": "stdout",
     "output_type": "stream",
     "text": [
      "<class 'pandas.core.frame.DataFrame'>\n",
      "Int64Index: 114053 entries, 25134 to 281321\n",
      "Data columns (total 7 columns):\n",
      " #   Column        Non-Null Count   Dtype  \n",
      "---  ------        --------------   -----  \n",
      " 0   Date_year     114053 non-null  float64\n",
      " 1   Date_month    114053 non-null  float64\n",
      " 2   Ember region  114053 non-null  object \n",
      " 3   Category      114053 non-null  object \n",
      " 4   Subcategory   114053 non-null  object \n",
      " 5   Variable      114053 non-null  object \n",
      " 6   Value         114053 non-null  float64\n",
      "dtypes: float64(3), object(4)\n",
      "memory usage: 7.0+ MB\n"
     ]
    }
   ],
   "source": [
    "X_eu.info()"
   ]
  },
  {
   "cell_type": "markdown",
   "metadata": {},
   "source": [
    "### EU Models"
   ]
  },
  {
   "cell_type": "code",
   "execution_count": 54,
   "metadata": {},
   "outputs": [],
   "source": [
    "X_train, X_test, y_train, y_test = train_test_split(X_eu, y_eu, test_size=0.2, \n",
    "                                                    random_state=42)"
   ]
  },
  {
   "cell_type": "code",
   "execution_count": 55,
   "metadata": {},
   "outputs": [],
   "source": [
    "X_train_nums = X_train[['Date_year', 'Date_month', 'Value']]\n",
    "\n",
    "ss = StandardScaler()\n",
    "\n",
    "ss.fit(X_train_nums)\n",
    "nums_df = pd.DataFrame(ss.transform(X_train_nums),\n",
    "                      index=X_train_nums.index)"
   ]
  },
  {
   "cell_type": "code",
   "execution_count": 56,
   "metadata": {},
   "outputs": [],
   "source": [
    "X_train_cat = X_train.select_dtypes('object')\n",
    "\n",
    "ohe = OneHotEncoder(\n",
    "    drop='first',\n",
    "    sparse=False)\n",
    "\n",
    "dums = ohe.fit_transform(X_train_cat)\n",
    "dums_df = pd.DataFrame(dums,\n",
    "                       columns=ohe.get_feature_names(),\n",
    "                       index=X_train_cat.index)"
   ]
  },
  {
   "cell_type": "code",
   "execution_count": 57,
   "metadata": {},
   "outputs": [],
   "source": [
    "X_train_clean = pd.concat([nums_df, dums_df], axis=1)"
   ]
  },
  {
   "cell_type": "code",
   "execution_count": 58,
   "metadata": {},
   "outputs": [
    {
     "data": {
      "text/plain": [
       "Index([                                         0,\n",
       "                                                1,\n",
       "                                                2,\n",
       "                      'x1_Electricity generation',\n",
       "                         'x1_Electricity imports',\n",
       "                          'x1_Electricity prices',\n",
       "                      'x1_Power sector emissions',\n",
       "                               'x2_CO2 intensity',\n",
       "                 'x2_Day-ahead electricity price',\n",
       "                                      'x2_Demand',\n",
       "                         'x2_Electricity imports',\n",
       "                                        'x2_Fuel',\n",
       "                                       'x2_Total',\n",
       "                               'x3_CO2 intensity',\n",
       "                                       'x3_Clean',\n",
       "                                        'x3_Coal',\n",
       "                 'x3_Day-ahead electricity price',\n",
       "                                      'x3_Demand',\n",
       "                                      'x3_Fossil',\n",
       "                                         'x3_Gas',\n",
       "                        'x3_Gas and Other Fossil',\n",
       "                                       'x3_Hydro',\n",
       "       'x3_Hydro, Bioenergy and Other Renewables',\n",
       "                                 'x3_Net Imports',\n",
       "                                     'x3_Nuclear',\n",
       "                                'x3_Other Fossil',\n",
       "                            'x3_Other Renewables',\n",
       "                                  'x3_Renewables',\n",
       "                                       'x3_Solar',\n",
       "                            'x3_Total Generation',\n",
       "                             'x3_Total emissions',\n",
       "                                        'x3_Wind',\n",
       "                              'x3_Wind and Solar'],\n",
       "      dtype='object')"
      ]
     },
     "execution_count": 58,
     "metadata": {},
     "output_type": "execute_result"
    }
   ],
   "source": [
    "X_train_clean.columns"
   ]
  },
  {
   "cell_type": "markdown",
   "metadata": {
    "heading_collapsed": true,
    "hidden": true
   },
   "source": [
    "#### Preparing the Test Set"
   ]
  },
  {
   "cell_type": "code",
   "execution_count": 59,
   "metadata": {
    "ExecuteTime": {
     "end_time": "2022-04-13T14:54:53.772070Z",
     "start_time": "2022-04-13T14:54:53.766754Z"
    },
    "hidden": true
   },
   "outputs": [],
   "source": [
    "X_test_cat = X_test.select_dtypes('object')\n",
    "\n",
    "test_dums = ohe.transform(X_test_cat)\n",
    "test_dums_df = pd.DataFrame(test_dums,\n",
    "                       columns=ohe.get_feature_names(),\n",
    "                      index=X_test_cat.index)"
   ]
  },
  {
   "cell_type": "code",
   "execution_count": 60,
   "metadata": {
    "ExecuteTime": {
     "end_time": "2022-04-13T14:54:53.779766Z",
     "start_time": "2022-04-13T14:54:53.774327Z"
    },
    "hidden": true
   },
   "outputs": [],
   "source": [
    "X_test_nums = X_test[['Date_year', 'Date_month', 'Value']]\n",
    "\n",
    "test_nums = ss.transform(X_test_nums)\n",
    "test_nums_df = pd.DataFrame(test_nums,\n",
    "                           index=X_test_nums.index)"
   ]
  },
  {
   "cell_type": "code",
   "execution_count": 61,
   "metadata": {
    "ExecuteTime": {
     "end_time": "2022-04-13T14:54:53.785004Z",
     "start_time": "2022-04-13T14:54:53.782032Z"
    },
    "hidden": true
   },
   "outputs": [],
   "source": [
    "X_test_clean = pd.concat([test_nums_df,\n",
    "                 test_dums_df], axis=1)"
   ]
  },
  {
   "cell_type": "code",
   "execution_count": 62,
   "metadata": {
    "ExecuteTime": {
     "end_time": "2022-04-13T14:54:53.797689Z",
     "start_time": "2022-04-13T14:54:53.786844Z"
    },
    "hidden": true
   },
   "outputs": [
    {
     "data": {
      "text/html": [
       "<div>\n",
       "<style scoped>\n",
       "    .dataframe tbody tr th:only-of-type {\n",
       "        vertical-align: middle;\n",
       "    }\n",
       "\n",
       "    .dataframe tbody tr th {\n",
       "        vertical-align: top;\n",
       "    }\n",
       "\n",
       "    .dataframe thead th {\n",
       "        text-align: right;\n",
       "    }\n",
       "</style>\n",
       "<table border=\"1\" class=\"dataframe\">\n",
       "  <thead>\n",
       "    <tr style=\"text-align: right;\">\n",
       "      <th></th>\n",
       "      <th>0</th>\n",
       "      <th>1</th>\n",
       "      <th>2</th>\n",
       "      <th>x1_Electricity generation</th>\n",
       "      <th>x1_Electricity imports</th>\n",
       "      <th>x1_Electricity prices</th>\n",
       "      <th>x1_Power sector emissions</th>\n",
       "      <th>x2_CO2 intensity</th>\n",
       "      <th>x2_Day-ahead electricity price</th>\n",
       "      <th>x2_Demand</th>\n",
       "      <th>...</th>\n",
       "      <th>x3_Net Imports</th>\n",
       "      <th>x3_Nuclear</th>\n",
       "      <th>x3_Other Fossil</th>\n",
       "      <th>x3_Other Renewables</th>\n",
       "      <th>x3_Renewables</th>\n",
       "      <th>x3_Solar</th>\n",
       "      <th>x3_Total Generation</th>\n",
       "      <th>x3_Total emissions</th>\n",
       "      <th>x3_Wind</th>\n",
       "      <th>x3_Wind and Solar</th>\n",
       "    </tr>\n",
       "  </thead>\n",
       "  <tbody>\n",
       "    <tr>\n",
       "      <th>89245</th>\n",
       "      <td>0.696663</td>\n",
       "      <td>-0.084918</td>\n",
       "      <td>-0.270622</td>\n",
       "      <td>1.0</td>\n",
       "      <td>0.0</td>\n",
       "      <td>0.0</td>\n",
       "      <td>0.0</td>\n",
       "      <td>0.0</td>\n",
       "      <td>0.0</td>\n",
       "      <td>0.0</td>\n",
       "      <td>...</td>\n",
       "      <td>0.0</td>\n",
       "      <td>0.0</td>\n",
       "      <td>0.0</td>\n",
       "      <td>0.0</td>\n",
       "      <td>0.0</td>\n",
       "      <td>0.0</td>\n",
       "      <td>0.0</td>\n",
       "      <td>0.0</td>\n",
       "      <td>0.0</td>\n",
       "      <td>0.0</td>\n",
       "    </tr>\n",
       "    <tr>\n",
       "      <th>107915</th>\n",
       "      <td>-0.699857</td>\n",
       "      <td>-0.376507</td>\n",
       "      <td>-0.274250</td>\n",
       "      <td>0.0</td>\n",
       "      <td>0.0</td>\n",
       "      <td>0.0</td>\n",
       "      <td>1.0</td>\n",
       "      <td>0.0</td>\n",
       "      <td>0.0</td>\n",
       "      <td>0.0</td>\n",
       "      <td>...</td>\n",
       "      <td>0.0</td>\n",
       "      <td>0.0</td>\n",
       "      <td>0.0</td>\n",
       "      <td>0.0</td>\n",
       "      <td>0.0</td>\n",
       "      <td>0.0</td>\n",
       "      <td>0.0</td>\n",
       "      <td>0.0</td>\n",
       "      <td>0.0</td>\n",
       "      <td>0.0</td>\n",
       "    </tr>\n",
       "    <tr>\n",
       "      <th>59441</th>\n",
       "      <td>-0.699857</td>\n",
       "      <td>0.206671</td>\n",
       "      <td>-0.273677</td>\n",
       "      <td>1.0</td>\n",
       "      <td>0.0</td>\n",
       "      <td>0.0</td>\n",
       "      <td>0.0</td>\n",
       "      <td>0.0</td>\n",
       "      <td>0.0</td>\n",
       "      <td>0.0</td>\n",
       "      <td>...</td>\n",
       "      <td>0.0</td>\n",
       "      <td>0.0</td>\n",
       "      <td>0.0</td>\n",
       "      <td>0.0</td>\n",
       "      <td>0.0</td>\n",
       "      <td>0.0</td>\n",
       "      <td>0.0</td>\n",
       "      <td>0.0</td>\n",
       "      <td>0.0</td>\n",
       "      <td>0.0</td>\n",
       "    </tr>\n",
       "    <tr>\n",
       "      <th>228013</th>\n",
       "      <td>-1.165363</td>\n",
       "      <td>0.789849</td>\n",
       "      <td>-0.106037</td>\n",
       "      <td>0.0</td>\n",
       "      <td>0.0</td>\n",
       "      <td>0.0</td>\n",
       "      <td>1.0</td>\n",
       "      <td>0.0</td>\n",
       "      <td>0.0</td>\n",
       "      <td>0.0</td>\n",
       "      <td>...</td>\n",
       "      <td>0.0</td>\n",
       "      <td>0.0</td>\n",
       "      <td>0.0</td>\n",
       "      <td>0.0</td>\n",
       "      <td>0.0</td>\n",
       "      <td>0.0</td>\n",
       "      <td>0.0</td>\n",
       "      <td>1.0</td>\n",
       "      <td>0.0</td>\n",
       "      <td>0.0</td>\n",
       "    </tr>\n",
       "    <tr>\n",
       "      <th>230911</th>\n",
       "      <td>1.162169</td>\n",
       "      <td>-0.084918</td>\n",
       "      <td>-0.273486</td>\n",
       "      <td>0.0</td>\n",
       "      <td>0.0</td>\n",
       "      <td>0.0</td>\n",
       "      <td>1.0</td>\n",
       "      <td>0.0</td>\n",
       "      <td>0.0</td>\n",
       "      <td>0.0</td>\n",
       "      <td>...</td>\n",
       "      <td>0.0</td>\n",
       "      <td>0.0</td>\n",
       "      <td>0.0</td>\n",
       "      <td>0.0</td>\n",
       "      <td>0.0</td>\n",
       "      <td>0.0</td>\n",
       "      <td>0.0</td>\n",
       "      <td>0.0</td>\n",
       "      <td>0.0</td>\n",
       "      <td>0.0</td>\n",
       "    </tr>\n",
       "  </tbody>\n",
       "</table>\n",
       "<p>5 rows × 33 columns</p>\n",
       "</div>"
      ],
      "text/plain": [
       "               0         1         2  x1_Electricity generation  \\\n",
       "89245   0.696663 -0.084918 -0.270622                        1.0   \n",
       "107915 -0.699857 -0.376507 -0.274250                        0.0   \n",
       "59441  -0.699857  0.206671 -0.273677                        1.0   \n",
       "228013 -1.165363  0.789849 -0.106037                        0.0   \n",
       "230911  1.162169 -0.084918 -0.273486                        0.0   \n",
       "\n",
       "        x1_Electricity imports  x1_Electricity prices  \\\n",
       "89245                      0.0                    0.0   \n",
       "107915                     0.0                    0.0   \n",
       "59441                      0.0                    0.0   \n",
       "228013                     0.0                    0.0   \n",
       "230911                     0.0                    0.0   \n",
       "\n",
       "        x1_Power sector emissions  x2_CO2 intensity  \\\n",
       "89245                         0.0               0.0   \n",
       "107915                        1.0               0.0   \n",
       "59441                         0.0               0.0   \n",
       "228013                        1.0               0.0   \n",
       "230911                        1.0               0.0   \n",
       "\n",
       "        x2_Day-ahead electricity price  x2_Demand  ...  x3_Net Imports  \\\n",
       "89245                              0.0        0.0  ...             0.0   \n",
       "107915                             0.0        0.0  ...             0.0   \n",
       "59441                              0.0        0.0  ...             0.0   \n",
       "228013                             0.0        0.0  ...             0.0   \n",
       "230911                             0.0        0.0  ...             0.0   \n",
       "\n",
       "        x3_Nuclear  x3_Other Fossil  x3_Other Renewables  x3_Renewables  \\\n",
       "89245          0.0              0.0                  0.0            0.0   \n",
       "107915         0.0              0.0                  0.0            0.0   \n",
       "59441          0.0              0.0                  0.0            0.0   \n",
       "228013         0.0              0.0                  0.0            0.0   \n",
       "230911         0.0              0.0                  0.0            0.0   \n",
       "\n",
       "        x3_Solar  x3_Total Generation  x3_Total emissions  x3_Wind  \\\n",
       "89245        0.0                  0.0                 0.0      0.0   \n",
       "107915       0.0                  0.0                 0.0      0.0   \n",
       "59441        0.0                  0.0                 0.0      0.0   \n",
       "228013       0.0                  0.0                 1.0      0.0   \n",
       "230911       0.0                  0.0                 0.0      0.0   \n",
       "\n",
       "        x3_Wind and Solar  \n",
       "89245                 0.0  \n",
       "107915                0.0  \n",
       "59441                 0.0  \n",
       "228013                0.0  \n",
       "230911                0.0  \n",
       "\n",
       "[5 rows x 33 columns]"
      ]
     },
     "execution_count": 62,
     "metadata": {},
     "output_type": "execute_result"
    }
   ],
   "source": [
    "X_test_clean.head()"
   ]
  },
  {
   "cell_type": "code",
   "execution_count": 63,
   "metadata": {
    "hidden": true
   },
   "outputs": [
    {
     "data": {
      "text/plain": [
       "KNeighborsClassifier()"
      ]
     },
     "execution_count": 63,
     "metadata": {},
     "output_type": "execute_result"
    }
   ],
   "source": [
    "knn = KNeighborsClassifier()\n",
    "\n",
    "knn.fit(X_train_clean, y_train)"
   ]
  },
  {
   "cell_type": "code",
   "execution_count": 64,
   "metadata": {},
   "outputs": [
    {
     "data": {
      "text/plain": [
       "0.2052015519168804"
      ]
     },
     "execution_count": 64,
     "metadata": {},
     "output_type": "execute_result"
    }
   ],
   "source": [
    "knn.score(X_train_clean, y_train)"
   ]
  },
  {
   "cell_type": "code",
   "execution_count": 65,
   "metadata": {},
   "outputs": [
    {
     "data": {
      "text/plain": [
       "0.018850554557011966"
      ]
     },
     "execution_count": 65,
     "metadata": {},
     "output_type": "execute_result"
    }
   ],
   "source": [
    "knn.score(X_test_clean, y_test)"
   ]
  },
  {
   "cell_type": "markdown",
   "metadata": {
    "heading_collapsed": true,
    "hidden": true
   },
   "source": [
    "#### Decision Tree"
   ]
  },
  {
   "cell_type": "code",
   "execution_count": 66,
   "metadata": {
    "hidden": true
   },
   "outputs": [
    {
     "data": {
      "text/plain": [
       "DecisionTreeClassifier(random_state=42)"
      ]
     },
     "execution_count": 66,
     "metadata": {},
     "output_type": "execute_result"
    }
   ],
   "source": [
    "dt = DecisionTreeClassifier(random_state=42)\n",
    "\n",
    "dt.fit(X_train_clean, y_train)"
   ]
  },
  {
   "cell_type": "code",
   "execution_count": 67,
   "metadata": {
    "scrolled": true
   },
   "outputs": [
    {
     "data": {
      "text/plain": [
       "0.772177286775827"
      ]
     },
     "execution_count": 67,
     "metadata": {},
     "output_type": "execute_result"
    }
   ],
   "source": [
    "dt.score(X_train_clean, y_train)"
   ]
  },
  {
   "cell_type": "code",
   "execution_count": 68,
   "metadata": {},
   "outputs": [
    {
     "data": {
      "text/plain": [
       "0.22975757310069703"
      ]
     },
     "execution_count": 68,
     "metadata": {},
     "output_type": "execute_result"
    }
   ],
   "source": [
    "dt.score(X_test_clean, y_test)"
   ]
  },
  {
   "cell_type": "markdown",
   "metadata": {},
   "source": [
    "### No EU"
   ]
  },
  {
   "cell_type": "code",
   "execution_count": 69,
   "metadata": {},
   "outputs": [],
   "source": [
    "X_train, X_test, y_train, y_test = train_test_split(X_no_eu, y_no_eu, test_size=0.2, \n",
    "                                                    random_state=42)"
   ]
  },
  {
   "cell_type": "code",
   "execution_count": 70,
   "metadata": {},
   "outputs": [],
   "source": [
    "X_train_nums = X_train[['Date_year', 'Date_month', 'Value']]\n",
    "\n",
    "ss = StandardScaler()\n",
    "\n",
    "ss.fit(X_train_nums)\n",
    "nums_df = pd.DataFrame(ss.transform(X_train_nums),\n",
    "                      index=X_train_nums.index)"
   ]
  },
  {
   "cell_type": "code",
   "execution_count": 71,
   "metadata": {},
   "outputs": [],
   "source": [
    "X_train_cat = X_train.select_dtypes('object')\n",
    "\n",
    "ohe = OneHotEncoder(\n",
    "    drop='first',\n",
    "    sparse=False)\n",
    "\n",
    "dums = ohe.fit_transform(X_train_cat)\n",
    "dums_df = pd.DataFrame(dums,\n",
    "                       columns=ohe.get_feature_names(),\n",
    "                       index=X_train_cat.index)"
   ]
  },
  {
   "cell_type": "code",
   "execution_count": 72,
   "metadata": {},
   "outputs": [],
   "source": [
    "X_train_clean = pd.concat([nums_df, dums_df], axis=1)"
   ]
  },
  {
   "cell_type": "code",
   "execution_count": 73,
   "metadata": {},
   "outputs": [
    {
     "data": {
      "text/plain": [
       "Index([                                         0,\n",
       "                                                1,\n",
       "                                                2,\n",
       "                                        'x0_Asia',\n",
       "                                      'x0_Europe',\n",
       "                 'x0_Latin America and Caribbean',\n",
       "                               'x0_North America',\n",
       "                                     'x0_Oceania',\n",
       "                      'x1_Electricity generation',\n",
       "                         'x1_Electricity imports',\n",
       "                          'x1_Electricity prices',\n",
       "                      'x1_Power sector emissions',\n",
       "                               'x2_CO2 intensity',\n",
       "                 'x2_Day-ahead electricity price',\n",
       "                                      'x2_Demand',\n",
       "                         'x2_Electricity imports',\n",
       "                                        'x2_Fuel',\n",
       "                                       'x2_Total',\n",
       "                               'x3_CO2 intensity',\n",
       "                                       'x3_Clean',\n",
       "                                        'x3_Coal',\n",
       "                 'x3_Day-ahead electricity price',\n",
       "                                      'x3_Demand',\n",
       "                                      'x3_Fossil',\n",
       "                                         'x3_Gas',\n",
       "                        'x3_Gas and Other Fossil',\n",
       "                                       'x3_Hydro',\n",
       "       'x3_Hydro, Bioenergy and Other Renewables',\n",
       "                                 'x3_Net Imports',\n",
       "                                     'x3_Nuclear',\n",
       "                                'x3_Other Fossil',\n",
       "                            'x3_Other Renewables',\n",
       "                                  'x3_Renewables',\n",
       "                                       'x3_Solar',\n",
       "                            'x3_Total Generation',\n",
       "                             'x3_Total emissions',\n",
       "                                        'x3_Wind',\n",
       "                              'x3_Wind and Solar'],\n",
       "      dtype='object')"
      ]
     },
     "execution_count": 73,
     "metadata": {},
     "output_type": "execute_result"
    }
   ],
   "source": [
    "X_train_clean.columns"
   ]
  },
  {
   "cell_type": "markdown",
   "metadata": {
    "heading_collapsed": true,
    "hidden": true
   },
   "source": [
    "#### Preparing the Test Set"
   ]
  },
  {
   "cell_type": "code",
   "execution_count": 74,
   "metadata": {
    "ExecuteTime": {
     "end_time": "2022-04-13T14:54:53.772070Z",
     "start_time": "2022-04-13T14:54:53.766754Z"
    },
    "hidden": true
   },
   "outputs": [],
   "source": [
    "X_test_cat = X_test.select_dtypes('object')\n",
    "\n",
    "test_dums = ohe.transform(X_test_cat)\n",
    "test_dums_df = pd.DataFrame(test_dums,\n",
    "                       columns=ohe.get_feature_names(),\n",
    "                      index=X_test_cat.index)"
   ]
  },
  {
   "cell_type": "code",
   "execution_count": 75,
   "metadata": {
    "ExecuteTime": {
     "end_time": "2022-04-13T14:54:53.779766Z",
     "start_time": "2022-04-13T14:54:53.774327Z"
    },
    "hidden": true
   },
   "outputs": [],
   "source": [
    "X_test_nums = X_test[['Date_year', 'Date_month', 'Value']]\n",
    "\n",
    "test_nums = ss.transform(X_test_nums)\n",
    "test_nums_df = pd.DataFrame(test_nums,\n",
    "                           index=X_test_nums.index)"
   ]
  },
  {
   "cell_type": "code",
   "execution_count": 76,
   "metadata": {
    "ExecuteTime": {
     "end_time": "2022-04-13T14:54:53.785004Z",
     "start_time": "2022-04-13T14:54:53.782032Z"
    },
    "hidden": true
   },
   "outputs": [],
   "source": [
    "X_test_clean = pd.concat([test_nums_df,\n",
    "                 test_dums_df], axis=1)"
   ]
  },
  {
   "cell_type": "code",
   "execution_count": 77,
   "metadata": {
    "ExecuteTime": {
     "end_time": "2022-04-13T14:54:53.797689Z",
     "start_time": "2022-04-13T14:54:53.786844Z"
    },
    "hidden": true
   },
   "outputs": [
    {
     "data": {
      "text/html": [
       "<div>\n",
       "<style scoped>\n",
       "    .dataframe tbody tr th:only-of-type {\n",
       "        vertical-align: middle;\n",
       "    }\n",
       "\n",
       "    .dataframe tbody tr th {\n",
       "        vertical-align: top;\n",
       "    }\n",
       "\n",
       "    .dataframe thead th {\n",
       "        text-align: right;\n",
       "    }\n",
       "</style>\n",
       "<table border=\"1\" class=\"dataframe\">\n",
       "  <thead>\n",
       "    <tr style=\"text-align: right;\">\n",
       "      <th></th>\n",
       "      <th>0</th>\n",
       "      <th>1</th>\n",
       "      <th>2</th>\n",
       "      <th>x0_Asia</th>\n",
       "      <th>x0_Europe</th>\n",
       "      <th>x0_Latin America and Caribbean</th>\n",
       "      <th>x0_North America</th>\n",
       "      <th>x0_Oceania</th>\n",
       "      <th>x1_Electricity generation</th>\n",
       "      <th>x1_Electricity imports</th>\n",
       "      <th>...</th>\n",
       "      <th>x3_Net Imports</th>\n",
       "      <th>x3_Nuclear</th>\n",
       "      <th>x3_Other Fossil</th>\n",
       "      <th>x3_Other Renewables</th>\n",
       "      <th>x3_Renewables</th>\n",
       "      <th>x3_Solar</th>\n",
       "      <th>x3_Total Generation</th>\n",
       "      <th>x3_Total emissions</th>\n",
       "      <th>x3_Wind</th>\n",
       "      <th>x3_Wind and Solar</th>\n",
       "    </tr>\n",
       "  </thead>\n",
       "  <tbody>\n",
       "    <tr>\n",
       "      <th>97839</th>\n",
       "      <td>-1.387335</td>\n",
       "      <td>1.062195</td>\n",
       "      <td>-0.121495</td>\n",
       "      <td>0.0</td>\n",
       "      <td>0.0</td>\n",
       "      <td>0.0</td>\n",
       "      <td>0.0</td>\n",
       "      <td>0.0</td>\n",
       "      <td>0.0</td>\n",
       "      <td>0.0</td>\n",
       "      <td>...</td>\n",
       "      <td>0.0</td>\n",
       "      <td>0.0</td>\n",
       "      <td>0.0</td>\n",
       "      <td>0.0</td>\n",
       "      <td>0.0</td>\n",
       "      <td>0.0</td>\n",
       "      <td>0.0</td>\n",
       "      <td>0.0</td>\n",
       "      <td>0.0</td>\n",
       "      <td>0.0</td>\n",
       "    </tr>\n",
       "    <tr>\n",
       "      <th>30684</th>\n",
       "      <td>-1.387335</td>\n",
       "      <td>0.194096</td>\n",
       "      <td>-0.266708</td>\n",
       "      <td>1.0</td>\n",
       "      <td>0.0</td>\n",
       "      <td>0.0</td>\n",
       "      <td>0.0</td>\n",
       "      <td>0.0</td>\n",
       "      <td>1.0</td>\n",
       "      <td>0.0</td>\n",
       "      <td>...</td>\n",
       "      <td>0.0</td>\n",
       "      <td>0.0</td>\n",
       "      <td>0.0</td>\n",
       "      <td>0.0</td>\n",
       "      <td>0.0</td>\n",
       "      <td>0.0</td>\n",
       "      <td>0.0</td>\n",
       "      <td>0.0</td>\n",
       "      <td>0.0</td>\n",
       "      <td>0.0</td>\n",
       "    </tr>\n",
       "    <tr>\n",
       "      <th>73356</th>\n",
       "      <td>0.715557</td>\n",
       "      <td>-1.252737</td>\n",
       "      <td>-0.259105</td>\n",
       "      <td>0.0</td>\n",
       "      <td>0.0</td>\n",
       "      <td>1.0</td>\n",
       "      <td>0.0</td>\n",
       "      <td>0.0</td>\n",
       "      <td>1.0</td>\n",
       "      <td>0.0</td>\n",
       "      <td>...</td>\n",
       "      <td>0.0</td>\n",
       "      <td>0.0</td>\n",
       "      <td>0.0</td>\n",
       "      <td>0.0</td>\n",
       "      <td>0.0</td>\n",
       "      <td>0.0</td>\n",
       "      <td>0.0</td>\n",
       "      <td>0.0</td>\n",
       "      <td>0.0</td>\n",
       "      <td>0.0</td>\n",
       "    </tr>\n",
       "    <tr>\n",
       "      <th>305580</th>\n",
       "      <td>0.084690</td>\n",
       "      <td>-0.384637</td>\n",
       "      <td>0.004771</td>\n",
       "      <td>0.0</td>\n",
       "      <td>1.0</td>\n",
       "      <td>0.0</td>\n",
       "      <td>0.0</td>\n",
       "      <td>0.0</td>\n",
       "      <td>1.0</td>\n",
       "      <td>0.0</td>\n",
       "      <td>...</td>\n",
       "      <td>0.0</td>\n",
       "      <td>0.0</td>\n",
       "      <td>0.0</td>\n",
       "      <td>0.0</td>\n",
       "      <td>0.0</td>\n",
       "      <td>0.0</td>\n",
       "      <td>0.0</td>\n",
       "      <td>0.0</td>\n",
       "      <td>0.0</td>\n",
       "      <td>0.0</td>\n",
       "    </tr>\n",
       "    <tr>\n",
       "      <th>303847</th>\n",
       "      <td>1.136136</td>\n",
       "      <td>-0.963370</td>\n",
       "      <td>-0.280544</td>\n",
       "      <td>0.0</td>\n",
       "      <td>1.0</td>\n",
       "      <td>0.0</td>\n",
       "      <td>0.0</td>\n",
       "      <td>0.0</td>\n",
       "      <td>0.0</td>\n",
       "      <td>0.0</td>\n",
       "      <td>...</td>\n",
       "      <td>0.0</td>\n",
       "      <td>0.0</td>\n",
       "      <td>1.0</td>\n",
       "      <td>0.0</td>\n",
       "      <td>0.0</td>\n",
       "      <td>0.0</td>\n",
       "      <td>0.0</td>\n",
       "      <td>0.0</td>\n",
       "      <td>0.0</td>\n",
       "      <td>0.0</td>\n",
       "    </tr>\n",
       "  </tbody>\n",
       "</table>\n",
       "<p>5 rows × 38 columns</p>\n",
       "</div>"
      ],
      "text/plain": [
       "               0         1         2  x0_Asia  x0_Europe  \\\n",
       "97839  -1.387335  1.062195 -0.121495      0.0        0.0   \n",
       "30684  -1.387335  0.194096 -0.266708      1.0        0.0   \n",
       "73356   0.715557 -1.252737 -0.259105      0.0        0.0   \n",
       "305580  0.084690 -0.384637  0.004771      0.0        1.0   \n",
       "303847  1.136136 -0.963370 -0.280544      0.0        1.0   \n",
       "\n",
       "        x0_Latin America and Caribbean  x0_North America  x0_Oceania  \\\n",
       "97839                              0.0               0.0         0.0   \n",
       "30684                              0.0               0.0         0.0   \n",
       "73356                              1.0               0.0         0.0   \n",
       "305580                             0.0               0.0         0.0   \n",
       "303847                             0.0               0.0         0.0   \n",
       "\n",
       "        x1_Electricity generation  x1_Electricity imports  ...  \\\n",
       "97839                         0.0                     0.0  ...   \n",
       "30684                         1.0                     0.0  ...   \n",
       "73356                         1.0                     0.0  ...   \n",
       "305580                        1.0                     0.0  ...   \n",
       "303847                        0.0                     0.0  ...   \n",
       "\n",
       "        x3_Net Imports  x3_Nuclear  x3_Other Fossil  x3_Other Renewables  \\\n",
       "97839              0.0         0.0              0.0                  0.0   \n",
       "30684              0.0         0.0              0.0                  0.0   \n",
       "73356              0.0         0.0              0.0                  0.0   \n",
       "305580             0.0         0.0              0.0                  0.0   \n",
       "303847             0.0         0.0              1.0                  0.0   \n",
       "\n",
       "        x3_Renewables  x3_Solar  x3_Total Generation  x3_Total emissions  \\\n",
       "97839             0.0       0.0                  0.0                 0.0   \n",
       "30684             0.0       0.0                  0.0                 0.0   \n",
       "73356             0.0       0.0                  0.0                 0.0   \n",
       "305580            0.0       0.0                  0.0                 0.0   \n",
       "303847            0.0       0.0                  0.0                 0.0   \n",
       "\n",
       "        x3_Wind  x3_Wind and Solar  \n",
       "97839       0.0                0.0  \n",
       "30684       0.0                0.0  \n",
       "73356       0.0                0.0  \n",
       "305580      0.0                0.0  \n",
       "303847      0.0                0.0  \n",
       "\n",
       "[5 rows x 38 columns]"
      ]
     },
     "execution_count": 77,
     "metadata": {},
     "output_type": "execute_result"
    }
   ],
   "source": [
    "X_test_clean.head()"
   ]
  },
  {
   "cell_type": "code",
   "execution_count": 78,
   "metadata": {
    "hidden": true
   },
   "outputs": [
    {
     "data": {
      "text/plain": [
       "KNeighborsClassifier()"
      ]
     },
     "execution_count": 78,
     "metadata": {},
     "output_type": "execute_result"
    }
   ],
   "source": [
    "knn = KNeighborsClassifier()\n",
    "\n",
    "knn.fit(X_train_clean, y_train)"
   ]
  },
  {
   "cell_type": "code",
   "execution_count": 79,
   "metadata": {},
   "outputs": [
    {
     "data": {
      "text/plain": [
       "0.5164080386670058"
      ]
     },
     "execution_count": 79,
     "metadata": {},
     "output_type": "execute_result"
    }
   ],
   "source": [
    "knn.score(X_train_clean, y_train)"
   ]
  },
  {
   "cell_type": "code",
   "execution_count": 80,
   "metadata": {},
   "outputs": [
    {
     "data": {
      "text/plain": [
       "0.2958896773329763"
      ]
     },
     "execution_count": 80,
     "metadata": {},
     "output_type": "execute_result"
    }
   ],
   "source": [
    "knn.score(X_test_clean, y_test)"
   ]
  },
  {
   "cell_type": "markdown",
   "metadata": {
    "heading_collapsed": true,
    "hidden": true
   },
   "source": [
    "#### Decision Tree"
   ]
  },
  {
   "cell_type": "code",
   "execution_count": 81,
   "metadata": {
    "hidden": true
   },
   "outputs": [
    {
     "data": {
      "text/plain": [
       "DecisionTreeClassifier(random_state=42)"
      ]
     },
     "execution_count": 81,
     "metadata": {},
     "output_type": "execute_result"
    }
   ],
   "source": [
    "dt = DecisionTreeClassifier(random_state=42)\n",
    "\n",
    "dt.fit(X_train_clean, y_train)"
   ]
  },
  {
   "cell_type": "code",
   "execution_count": 82,
   "metadata": {
    "scrolled": true
   },
   "outputs": [
    {
     "data": {
      "text/plain": [
       "0.8586070237919908"
      ]
     },
     "execution_count": 82,
     "metadata": {},
     "output_type": "execute_result"
    }
   ],
   "source": [
    "dt.score(X_train_clean, y_train)"
   ]
  },
  {
   "cell_type": "code",
   "execution_count": 83,
   "metadata": {},
   "outputs": [
    {
     "data": {
      "text/plain": [
       "0.6370062926763957"
      ]
     },
     "execution_count": 83,
     "metadata": {},
     "output_type": "execute_result"
    }
   ],
   "source": [
    "dt.score(X_test_clean, y_test)"
   ]
  },
  {
   "cell_type": "code",
   "execution_count": 86,
   "metadata": {},
   "outputs": [
    {
     "data": {
      "text/plain": [
       "Estonia        4641\n",
       "Portugal       4641\n",
       "Slovakia       4641\n",
       "Greece         4641\n",
       "Denmark        4641\n",
       "Sweden         4641\n",
       "Lithuania      4641\n",
       "France         4641\n",
       "Austria        4641\n",
       "Hungary        4641\n",
       "Belgium        4641\n",
       "Latvia         4641\n",
       "Romania        4641\n",
       "Spain          4641\n",
       "Czechia        4641\n",
       "Poland         4631\n",
       "Bulgaria       4620\n",
       "Ireland        4587\n",
       "Netherlands    4541\n",
       "Germany        4368\n",
       "Slovenia       4041\n",
       "Italy          4041\n",
       "Finland        3436\n",
       "Cyprus         3250\n",
       "Luxembourg     2741\n",
       "Croatia        2208\n",
       "Malta          1974\n",
       "Name: Area, dtype: int64"
      ]
     },
     "execution_count": 86,
     "metadata": {},
     "output_type": "execute_result"
    }
   ],
   "source": [
    "df_eu.Area.value_counts()"
   ]
  },
  {
   "cell_type": "code",
   "execution_count": 87,
   "metadata": {},
   "outputs": [
    {
     "data": {
      "text/html": [
       "<div>\n",
       "<style scoped>\n",
       "    .dataframe tbody tr th:only-of-type {\n",
       "        vertical-align: middle;\n",
       "    }\n",
       "\n",
       "    .dataframe tbody tr th {\n",
       "        vertical-align: top;\n",
       "    }\n",
       "\n",
       "    .dataframe thead th {\n",
       "        text-align: right;\n",
       "    }\n",
       "</style>\n",
       "<table border=\"1\" class=\"dataframe\">\n",
       "  <thead>\n",
       "    <tr style=\"text-align: right;\">\n",
       "      <th></th>\n",
       "      <th>Area</th>\n",
       "      <th>Country code</th>\n",
       "      <th>Date</th>\n",
       "      <th>Area type</th>\n",
       "      <th>Continent</th>\n",
       "      <th>Ember region</th>\n",
       "      <th>EU</th>\n",
       "      <th>OECD</th>\n",
       "      <th>G20</th>\n",
       "      <th>G7</th>\n",
       "      <th>Category</th>\n",
       "      <th>Subcategory</th>\n",
       "      <th>Variable</th>\n",
       "      <th>Unit</th>\n",
       "      <th>Value</th>\n",
       "      <th>Date_year</th>\n",
       "      <th>Date_month</th>\n",
       "    </tr>\n",
       "  </thead>\n",
       "  <tbody>\n",
       "    <tr>\n",
       "      <th>25134</th>\n",
       "      <td>Austria</td>\n",
       "      <td>AUT</td>\n",
       "      <td>2015-01-01</td>\n",
       "      <td>Country</td>\n",
       "      <td>Europe</td>\n",
       "      <td>Europe</td>\n",
       "      <td>1.0</td>\n",
       "      <td>1.0</td>\n",
       "      <td>0.0</td>\n",
       "      <td>0.0</td>\n",
       "      <td>Electricity demand</td>\n",
       "      <td>Demand</td>\n",
       "      <td>Demand</td>\n",
       "      <td>TWh</td>\n",
       "      <td>5.88</td>\n",
       "      <td>2015.0</td>\n",
       "      <td>1.0</td>\n",
       "    </tr>\n",
       "    <tr>\n",
       "      <th>25135</th>\n",
       "      <td>Austria</td>\n",
       "      <td>AUT</td>\n",
       "      <td>2015-01-01</td>\n",
       "      <td>Country</td>\n",
       "      <td>Europe</td>\n",
       "      <td>Europe</td>\n",
       "      <td>1.0</td>\n",
       "      <td>1.0</td>\n",
       "      <td>0.0</td>\n",
       "      <td>0.0</td>\n",
       "      <td>Electricity generation</td>\n",
       "      <td>Aggregate fuel</td>\n",
       "      <td>Clean</td>\n",
       "      <td>%</td>\n",
       "      <td>63.54</td>\n",
       "      <td>2015.0</td>\n",
       "      <td>1.0</td>\n",
       "    </tr>\n",
       "    <tr>\n",
       "      <th>25136</th>\n",
       "      <td>Austria</td>\n",
       "      <td>AUT</td>\n",
       "      <td>2015-01-01</td>\n",
       "      <td>Country</td>\n",
       "      <td>Europe</td>\n",
       "      <td>Europe</td>\n",
       "      <td>1.0</td>\n",
       "      <td>1.0</td>\n",
       "      <td>0.0</td>\n",
       "      <td>0.0</td>\n",
       "      <td>Electricity generation</td>\n",
       "      <td>Aggregate fuel</td>\n",
       "      <td>Fossil</td>\n",
       "      <td>%</td>\n",
       "      <td>36.47</td>\n",
       "      <td>2015.0</td>\n",
       "      <td>1.0</td>\n",
       "    </tr>\n",
       "    <tr>\n",
       "      <th>25137</th>\n",
       "      <td>Austria</td>\n",
       "      <td>AUT</td>\n",
       "      <td>2015-01-01</td>\n",
       "      <td>Country</td>\n",
       "      <td>Europe</td>\n",
       "      <td>Europe</td>\n",
       "      <td>1.0</td>\n",
       "      <td>1.0</td>\n",
       "      <td>0.0</td>\n",
       "      <td>0.0</td>\n",
       "      <td>Electricity generation</td>\n",
       "      <td>Aggregate fuel</td>\n",
       "      <td>Gas and Other Fossil</td>\n",
       "      <td>%</td>\n",
       "      <td>30.79</td>\n",
       "      <td>2015.0</td>\n",
       "      <td>1.0</td>\n",
       "    </tr>\n",
       "    <tr>\n",
       "      <th>25138</th>\n",
       "      <td>Austria</td>\n",
       "      <td>AUT</td>\n",
       "      <td>2015-01-01</td>\n",
       "      <td>Country</td>\n",
       "      <td>Europe</td>\n",
       "      <td>Europe</td>\n",
       "      <td>1.0</td>\n",
       "      <td>1.0</td>\n",
       "      <td>0.0</td>\n",
       "      <td>0.0</td>\n",
       "      <td>Electricity generation</td>\n",
       "      <td>Aggregate fuel</td>\n",
       "      <td>Hydro, Bioenergy and Other Renewables</td>\n",
       "      <td>%</td>\n",
       "      <td>51.31</td>\n",
       "      <td>2015.0</td>\n",
       "      <td>1.0</td>\n",
       "    </tr>\n",
       "  </tbody>\n",
       "</table>\n",
       "</div>"
      ],
      "text/plain": [
       "          Area Country code       Date Area type Continent Ember region   EU  \\\n",
       "25134  Austria          AUT 2015-01-01   Country    Europe       Europe  1.0   \n",
       "25135  Austria          AUT 2015-01-01   Country    Europe       Europe  1.0   \n",
       "25136  Austria          AUT 2015-01-01   Country    Europe       Europe  1.0   \n",
       "25137  Austria          AUT 2015-01-01   Country    Europe       Europe  1.0   \n",
       "25138  Austria          AUT 2015-01-01   Country    Europe       Europe  1.0   \n",
       "\n",
       "       OECD  G20   G7                Category     Subcategory  \\\n",
       "25134   1.0  0.0  0.0      Electricity demand          Demand   \n",
       "25135   1.0  0.0  0.0  Electricity generation  Aggregate fuel   \n",
       "25136   1.0  0.0  0.0  Electricity generation  Aggregate fuel   \n",
       "25137   1.0  0.0  0.0  Electricity generation  Aggregate fuel   \n",
       "25138   1.0  0.0  0.0  Electricity generation  Aggregate fuel   \n",
       "\n",
       "                                    Variable Unit  Value  Date_year  \\\n",
       "25134                                 Demand  TWh   5.88     2015.0   \n",
       "25135                                  Clean    %  63.54     2015.0   \n",
       "25136                                 Fossil    %  36.47     2015.0   \n",
       "25137                   Gas and Other Fossil    %  30.79     2015.0   \n",
       "25138  Hydro, Bioenergy and Other Renewables    %  51.31     2015.0   \n",
       "\n",
       "       Date_month  \n",
       "25134         1.0  \n",
       "25135         1.0  \n",
       "25136         1.0  \n",
       "25137         1.0  \n",
       "25138         1.0  "
      ]
     },
     "execution_count": 87,
     "metadata": {},
     "output_type": "execute_result"
    }
   ],
   "source": [
    "df_eu.head()"
   ]
  },
  {
   "cell_type": "code",
   "execution_count": 88,
   "metadata": {},
   "outputs": [
    {
     "data": {
      "text/plain": [
       "0.14"
      ]
     },
     "execution_count": 88,
     "metadata": {},
     "output_type": "execute_result"
    }
   ],
   "source": [
    "df_eu.loc[df_eu['Variable'] == 'Demand'].Value.min()"
   ]
  },
  {
   "cell_type": "code",
   "execution_count": 89,
   "metadata": {},
   "outputs": [
    {
     "data": {
      "text/plain": [
       "56.95"
      ]
     },
     "execution_count": 89,
     "metadata": {},
     "output_type": "execute_result"
    }
   ],
   "source": [
    "df_eu.loc[df_eu['Variable'] == 'Demand'].Value.max()"
   ]
  },
  {
   "cell_type": "code",
   "execution_count": 92,
   "metadata": {},
   "outputs": [
    {
     "data": {
      "text/html": [
       "<div>\n",
       "<style scoped>\n",
       "    .dataframe tbody tr th:only-of-type {\n",
       "        vertical-align: middle;\n",
       "    }\n",
       "\n",
       "    .dataframe tbody tr th {\n",
       "        vertical-align: top;\n",
       "    }\n",
       "\n",
       "    .dataframe thead th {\n",
       "        text-align: right;\n",
       "    }\n",
       "</style>\n",
       "<table border=\"1\" class=\"dataframe\">\n",
       "  <thead>\n",
       "    <tr style=\"text-align: right;\">\n",
       "      <th></th>\n",
       "      <th>Area</th>\n",
       "      <th>Country code</th>\n",
       "      <th>Date</th>\n",
       "      <th>Area type</th>\n",
       "      <th>Continent</th>\n",
       "      <th>Ember region</th>\n",
       "      <th>EU</th>\n",
       "      <th>OECD</th>\n",
       "      <th>G20</th>\n",
       "      <th>G7</th>\n",
       "      <th>Category</th>\n",
       "      <th>Subcategory</th>\n",
       "      <th>Variable</th>\n",
       "      <th>Unit</th>\n",
       "      <th>Value</th>\n",
       "      <th>Date_year</th>\n",
       "      <th>Date_month</th>\n",
       "    </tr>\n",
       "  </thead>\n",
       "  <tbody>\n",
       "    <tr>\n",
       "      <th>177941</th>\n",
       "      <td>Malta</td>\n",
       "      <td>MLT</td>\n",
       "      <td>2020-04-01</td>\n",
       "      <td>Country</td>\n",
       "      <td>Europe</td>\n",
       "      <td>Europe</td>\n",
       "      <td>1.0</td>\n",
       "      <td>0.0</td>\n",
       "      <td>0.0</td>\n",
       "      <td>0.0</td>\n",
       "      <td>Electricity demand</td>\n",
       "      <td>Demand</td>\n",
       "      <td>Demand</td>\n",
       "      <td>TWh</td>\n",
       "      <td>0.14</td>\n",
       "      <td>2020.0</td>\n",
       "      <td>4.0</td>\n",
       "    </tr>\n",
       "  </tbody>\n",
       "</table>\n",
       "</div>"
      ],
      "text/plain": [
       "         Area Country code       Date Area type Continent Ember region   EU  \\\n",
       "177941  Malta          MLT 2020-04-01   Country    Europe       Europe  1.0   \n",
       "\n",
       "        OECD  G20   G7            Category Subcategory Variable Unit  Value  \\\n",
       "177941   0.0  0.0  0.0  Electricity demand      Demand   Demand  TWh   0.14   \n",
       "\n",
       "        Date_year  Date_month  \n",
       "177941     2020.0         4.0  "
      ]
     },
     "execution_count": 92,
     "metadata": {},
     "output_type": "execute_result"
    }
   ],
   "source": [
    "df_eu.loc[(df_eu['Variable'] == 'Demand')&(df_eu['Value'] == 0.14)]"
   ]
  },
  {
   "cell_type": "code",
   "execution_count": 93,
   "metadata": {},
   "outputs": [
    {
     "data": {
      "text/html": [
       "<div>\n",
       "<style scoped>\n",
       "    .dataframe tbody tr th:only-of-type {\n",
       "        vertical-align: middle;\n",
       "    }\n",
       "\n",
       "    .dataframe tbody tr th {\n",
       "        vertical-align: top;\n",
       "    }\n",
       "\n",
       "    .dataframe thead th {\n",
       "        text-align: right;\n",
       "    }\n",
       "</style>\n",
       "<table border=\"1\" class=\"dataframe\">\n",
       "  <thead>\n",
       "    <tr style=\"text-align: right;\">\n",
       "      <th></th>\n",
       "      <th>Area</th>\n",
       "      <th>Country code</th>\n",
       "      <th>Date</th>\n",
       "      <th>Area type</th>\n",
       "      <th>Continent</th>\n",
       "      <th>Ember region</th>\n",
       "      <th>EU</th>\n",
       "      <th>OECD</th>\n",
       "      <th>G20</th>\n",
       "      <th>G7</th>\n",
       "      <th>Category</th>\n",
       "      <th>Subcategory</th>\n",
       "      <th>Variable</th>\n",
       "      <th>Unit</th>\n",
       "      <th>Value</th>\n",
       "      <th>Date_year</th>\n",
       "      <th>Date_month</th>\n",
       "    </tr>\n",
       "  </thead>\n",
       "  <tbody>\n",
       "    <tr>\n",
       "      <th>124844</th>\n",
       "      <td>France</td>\n",
       "      <td>FRA</td>\n",
       "      <td>2017-01-01</td>\n",
       "      <td>Country</td>\n",
       "      <td>Europe</td>\n",
       "      <td>Europe</td>\n",
       "      <td>1.0</td>\n",
       "      <td>1.0</td>\n",
       "      <td>1.0</td>\n",
       "      <td>1.0</td>\n",
       "      <td>Electricity demand</td>\n",
       "      <td>Demand</td>\n",
       "      <td>Demand</td>\n",
       "      <td>TWh</td>\n",
       "      <td>56.95</td>\n",
       "      <td>2017.0</td>\n",
       "      <td>1.0</td>\n",
       "    </tr>\n",
       "  </tbody>\n",
       "</table>\n",
       "</div>"
      ],
      "text/plain": [
       "          Area Country code       Date Area type Continent Ember region   EU  \\\n",
       "124844  France          FRA 2017-01-01   Country    Europe       Europe  1.0   \n",
       "\n",
       "        OECD  G20   G7            Category Subcategory Variable Unit  Value  \\\n",
       "124844   1.0  1.0  1.0  Electricity demand      Demand   Demand  TWh  56.95   \n",
       "\n",
       "        Date_year  Date_month  \n",
       "124844     2017.0         1.0  "
      ]
     },
     "execution_count": 93,
     "metadata": {},
     "output_type": "execute_result"
    }
   ],
   "source": [
    "df_eu.loc[(df_eu['Variable'] == 'Demand')&(df_eu['Value'] == 56.95)]"
   ]
  },
  {
   "cell_type": "code",
   "execution_count": 94,
   "metadata": {},
   "outputs": [
    {
     "data": {
      "text/plain": [
       "0.01"
      ]
     },
     "execution_count": 94,
     "metadata": {},
     "output_type": "execute_result"
    }
   ],
   "source": [
    "df_no_eu.loc[df_no_eu['Variable'] == 'Demand'].Value.min()"
   ]
  },
  {
   "cell_type": "code",
   "execution_count": 95,
   "metadata": {},
   "outputs": [
    {
     "data": {
      "text/plain": [
       "787.07"
      ]
     },
     "execution_count": 95,
     "metadata": {},
     "output_type": "execute_result"
    }
   ],
   "source": [
    "df_no_eu.loc[df_no_eu['Variable'] == 'Demand'].Value.max()"
   ]
  },
  {
   "cell_type": "code",
   "execution_count": 98,
   "metadata": {},
   "outputs": [
    {
     "data": {
      "text/html": [
       "<div>\n",
       "<style scoped>\n",
       "    .dataframe tbody tr th:only-of-type {\n",
       "        vertical-align: middle;\n",
       "    }\n",
       "\n",
       "    .dataframe tbody tr th {\n",
       "        vertical-align: top;\n",
       "    }\n",
       "\n",
       "    .dataframe thead th {\n",
       "        text-align: right;\n",
       "    }\n",
       "</style>\n",
       "<table border=\"1\" class=\"dataframe\">\n",
       "  <thead>\n",
       "    <tr style=\"text-align: right;\">\n",
       "      <th></th>\n",
       "      <th>Area</th>\n",
       "      <th>Country code</th>\n",
       "      <th>Date</th>\n",
       "      <th>Area type</th>\n",
       "      <th>Continent</th>\n",
       "      <th>Ember region</th>\n",
       "      <th>EU</th>\n",
       "      <th>OECD</th>\n",
       "      <th>G20</th>\n",
       "      <th>G7</th>\n",
       "      <th>Category</th>\n",
       "      <th>Subcategory</th>\n",
       "      <th>Variable</th>\n",
       "      <th>Unit</th>\n",
       "      <th>Value</th>\n",
       "      <th>Date_year</th>\n",
       "      <th>Date_month</th>\n",
       "    </tr>\n",
       "  </thead>\n",
       "  <tbody>\n",
       "    <tr>\n",
       "      <th>63622</th>\n",
       "      <td>Burundi</td>\n",
       "      <td>BDI</td>\n",
       "      <td>2021-07-01</td>\n",
       "      <td>Country</td>\n",
       "      <td>Africa</td>\n",
       "      <td>Africa</td>\n",
       "      <td>0.0</td>\n",
       "      <td>0.0</td>\n",
       "      <td>0.0</td>\n",
       "      <td>0.0</td>\n",
       "      <td>Electricity demand</td>\n",
       "      <td>Demand</td>\n",
       "      <td>Demand</td>\n",
       "      <td>TWh</td>\n",
       "      <td>0.01</td>\n",
       "      <td>2021.0</td>\n",
       "      <td>7.0</td>\n",
       "    </tr>\n",
       "  </tbody>\n",
       "</table>\n",
       "</div>"
      ],
      "text/plain": [
       "          Area Country code       Date Area type Continent Ember region   EU  \\\n",
       "63622  Burundi          BDI 2021-07-01   Country    Africa       Africa  0.0   \n",
       "\n",
       "       OECD  G20   G7            Category Subcategory Variable Unit  Value  \\\n",
       "63622   0.0  0.0  0.0  Electricity demand      Demand   Demand  TWh   0.01   \n",
       "\n",
       "       Date_year  Date_month  \n",
       "63622     2021.0         7.0  "
      ]
     },
     "execution_count": 98,
     "metadata": {},
     "output_type": "execute_result"
    }
   ],
   "source": [
    "df_no_eu.loc[(df_no_eu['Variable'] == 'Demand')&(df_no_eu['Value'] == 0.01)]"
   ]
  },
  {
   "cell_type": "code",
   "execution_count": 97,
   "metadata": {},
   "outputs": [
    {
     "data": {
      "text/html": [
       "<div>\n",
       "<style scoped>\n",
       "    .dataframe tbody tr th:only-of-type {\n",
       "        vertical-align: middle;\n",
       "    }\n",
       "\n",
       "    .dataframe tbody tr th {\n",
       "        vertical-align: top;\n",
       "    }\n",
       "\n",
       "    .dataframe thead th {\n",
       "        text-align: right;\n",
       "    }\n",
       "</style>\n",
       "<table border=\"1\" class=\"dataframe\">\n",
       "  <thead>\n",
       "    <tr style=\"text-align: right;\">\n",
       "      <th></th>\n",
       "      <th>Area</th>\n",
       "      <th>Country code</th>\n",
       "      <th>Date</th>\n",
       "      <th>Area type</th>\n",
       "      <th>Continent</th>\n",
       "      <th>Ember region</th>\n",
       "      <th>EU</th>\n",
       "      <th>OECD</th>\n",
       "      <th>G20</th>\n",
       "      <th>G7</th>\n",
       "      <th>Category</th>\n",
       "      <th>Subcategory</th>\n",
       "      <th>Variable</th>\n",
       "      <th>Unit</th>\n",
       "      <th>Value</th>\n",
       "      <th>Date_year</th>\n",
       "      <th>Date_month</th>\n",
       "    </tr>\n",
       "  </thead>\n",
       "  <tbody>\n",
       "    <tr>\n",
       "      <th>78410</th>\n",
       "      <td>China</td>\n",
       "      <td>CHN</td>\n",
       "      <td>2021-07-01</td>\n",
       "      <td>Country</td>\n",
       "      <td>Asia</td>\n",
       "      <td>Asia</td>\n",
       "      <td>0.0</td>\n",
       "      <td>0.0</td>\n",
       "      <td>1.0</td>\n",
       "      <td>0.0</td>\n",
       "      <td>Electricity demand</td>\n",
       "      <td>Demand</td>\n",
       "      <td>Demand</td>\n",
       "      <td>TWh</td>\n",
       "      <td>787.07</td>\n",
       "      <td>2021.0</td>\n",
       "      <td>7.0</td>\n",
       "    </tr>\n",
       "  </tbody>\n",
       "</table>\n",
       "</div>"
      ],
      "text/plain": [
       "        Area Country code       Date Area type Continent Ember region   EU  \\\n",
       "78410  China          CHN 2021-07-01   Country      Asia         Asia  0.0   \n",
       "\n",
       "       OECD  G20   G7            Category Subcategory Variable Unit   Value  \\\n",
       "78410   0.0  1.0  0.0  Electricity demand      Demand   Demand  TWh  787.07   \n",
       "\n",
       "       Date_year  Date_month  \n",
       "78410     2021.0         7.0  "
      ]
     },
     "execution_count": 97,
     "metadata": {},
     "output_type": "execute_result"
    }
   ],
   "source": [
    "df_no_eu.loc[(df_no_eu['Variable'] == 'Demand')&(df_no_eu['Value'] == 787.07)]"
   ]
  },
  {
   "cell_type": "markdown",
   "metadata": {},
   "source": [
    "### OECD Member States\n"
   ]
  },
  {
   "cell_type": "code",
   "execution_count": 99,
   "metadata": {},
   "outputs": [],
   "source": [
    "filter_OECD = df['OECD'] == 1"
   ]
  },
  {
   "cell_type": "code",
   "execution_count": 100,
   "metadata": {},
   "outputs": [],
   "source": [
    "df_OECD = df[filter_OECD]"
   ]
  },
  {
   "cell_type": "code",
   "execution_count": 101,
   "metadata": {},
   "outputs": [],
   "source": [
    "relevant_col = ['Date_year', 'Date_month','Ember region',\n",
    "                'Category', 'Subcategory','Variable',\n",
    "                'Value']"
   ]
  },
  {
   "cell_type": "code",
   "execution_count": 102,
   "metadata": {},
   "outputs": [],
   "source": [
    "X_OECD = df_OECD[relevant_col]\n",
    "y_OECD = df_OECD['Area']"
   ]
  },
  {
   "cell_type": "code",
   "execution_count": 103,
   "metadata": {},
   "outputs": [],
   "source": [
    "X_train, X_test, y_train, y_test = train_test_split(X_OECD, y_OECD, test_size=0.2, random_state=42)"
   ]
  },
  {
   "cell_type": "code",
   "execution_count": 104,
   "metadata": {},
   "outputs": [],
   "source": [
    "X_train_nums = X_train[['Date_year', 'Date_month', 'Value']]\n",
    "\n",
    "ss = StandardScaler()\n",
    "\n",
    "ss.fit(X_train_nums)\n",
    "nums_df = pd.DataFrame(ss.transform(X_train_nums),\n",
    "                      index=X_train_nums.index)"
   ]
  },
  {
   "cell_type": "code",
   "execution_count": 105,
   "metadata": {},
   "outputs": [],
   "source": [
    "X_train_cat = X_train.select_dtypes('object')\n",
    "\n",
    "ohe = OneHotEncoder(\n",
    "    drop='first',\n",
    "    sparse=False)\n",
    "\n",
    "dums = ohe.fit_transform(X_train_cat)\n",
    "dums_df = pd.DataFrame(dums,\n",
    "                       columns=ohe.get_feature_names(),\n",
    "                       index=X_train_cat.index)"
   ]
  },
  {
   "cell_type": "code",
   "execution_count": 106,
   "metadata": {},
   "outputs": [],
   "source": [
    "X_train_clean = pd.concat([nums_df, dums_df], axis=1)"
   ]
  },
  {
   "cell_type": "code",
   "execution_count": 107,
   "metadata": {},
   "outputs": [
    {
     "data": {
      "text/plain": [
       "Index([                                         0,\n",
       "                                                1,\n",
       "                                                2,\n",
       "                                      'x0_Europe',\n",
       "                 'x0_Latin America and Caribbean',\n",
       "                               'x0_North America',\n",
       "                                     'x0_Oceania',\n",
       "                      'x1_Electricity generation',\n",
       "                         'x1_Electricity imports',\n",
       "                          'x1_Electricity prices',\n",
       "                      'x1_Power sector emissions',\n",
       "                               'x2_CO2 intensity',\n",
       "                 'x2_Day-ahead electricity price',\n",
       "                                      'x2_Demand',\n",
       "                         'x2_Electricity imports',\n",
       "                                        'x2_Fuel',\n",
       "                                       'x2_Total',\n",
       "                               'x3_CO2 intensity',\n",
       "                                       'x3_Clean',\n",
       "                                        'x3_Coal',\n",
       "                 'x3_Day-ahead electricity price',\n",
       "                                      'x3_Demand',\n",
       "                                      'x3_Fossil',\n",
       "                                         'x3_Gas',\n",
       "                        'x3_Gas and Other Fossil',\n",
       "                                       'x3_Hydro',\n",
       "       'x3_Hydro, Bioenergy and Other Renewables',\n",
       "                                 'x3_Net Imports',\n",
       "                                     'x3_Nuclear',\n",
       "                                'x3_Other Fossil',\n",
       "                            'x3_Other Renewables',\n",
       "                                  'x3_Renewables',\n",
       "                                       'x3_Solar',\n",
       "                            'x3_Total Generation',\n",
       "                             'x3_Total emissions',\n",
       "                                        'x3_Wind',\n",
       "                              'x3_Wind and Solar'],\n",
       "      dtype='object')"
      ]
     },
     "execution_count": 107,
     "metadata": {},
     "output_type": "execute_result"
    }
   ],
   "source": [
    "X_train_clean.columns"
   ]
  },
  {
   "cell_type": "markdown",
   "metadata": {
    "heading_collapsed": true,
    "hidden": true
   },
   "source": [
    "#### Preparing the Test Set"
   ]
  },
  {
   "cell_type": "code",
   "execution_count": 108,
   "metadata": {
    "ExecuteTime": {
     "end_time": "2022-04-13T14:54:53.772070Z",
     "start_time": "2022-04-13T14:54:53.766754Z"
    },
    "hidden": true
   },
   "outputs": [],
   "source": [
    "X_test_cat = X_test.select_dtypes('object')\n",
    "\n",
    "test_dums = ohe.transform(X_test_cat)\n",
    "test_dums_df = pd.DataFrame(test_dums,\n",
    "                       columns=ohe.get_feature_names(),\n",
    "                      index=X_test_cat.index)"
   ]
  },
  {
   "cell_type": "code",
   "execution_count": 109,
   "metadata": {
    "ExecuteTime": {
     "end_time": "2022-04-13T14:54:53.779766Z",
     "start_time": "2022-04-13T14:54:53.774327Z"
    },
    "hidden": true
   },
   "outputs": [],
   "source": [
    "X_test_nums = X_test[['Date_year', 'Date_month', 'Value']]\n",
    "\n",
    "test_nums = ss.transform(X_test_nums)\n",
    "test_nums_df = pd.DataFrame(test_nums,\n",
    "                           index=X_test_nums.index)"
   ]
  },
  {
   "cell_type": "code",
   "execution_count": 110,
   "metadata": {
    "ExecuteTime": {
     "end_time": "2022-04-13T14:54:53.785004Z",
     "start_time": "2022-04-13T14:54:53.782032Z"
    },
    "hidden": true
   },
   "outputs": [],
   "source": [
    "X_test_clean = pd.concat([test_nums_df,\n",
    "                 test_dums_df], axis=1)"
   ]
  },
  {
   "cell_type": "code",
   "execution_count": 111,
   "metadata": {
    "ExecuteTime": {
     "end_time": "2022-04-13T14:54:53.797689Z",
     "start_time": "2022-04-13T14:54:53.786844Z"
    },
    "hidden": true
   },
   "outputs": [
    {
     "data": {
      "text/html": [
       "<div>\n",
       "<style scoped>\n",
       "    .dataframe tbody tr th:only-of-type {\n",
       "        vertical-align: middle;\n",
       "    }\n",
       "\n",
       "    .dataframe tbody tr th {\n",
       "        vertical-align: top;\n",
       "    }\n",
       "\n",
       "    .dataframe thead th {\n",
       "        text-align: right;\n",
       "    }\n",
       "</style>\n",
       "<table border=\"1\" class=\"dataframe\">\n",
       "  <thead>\n",
       "    <tr style=\"text-align: right;\">\n",
       "      <th></th>\n",
       "      <th>0</th>\n",
       "      <th>1</th>\n",
       "      <th>2</th>\n",
       "      <th>x0_Europe</th>\n",
       "      <th>x0_Latin America and Caribbean</th>\n",
       "      <th>x0_North America</th>\n",
       "      <th>x0_Oceania</th>\n",
       "      <th>x1_Electricity generation</th>\n",
       "      <th>x1_Electricity imports</th>\n",
       "      <th>x1_Electricity prices</th>\n",
       "      <th>...</th>\n",
       "      <th>x3_Net Imports</th>\n",
       "      <th>x3_Nuclear</th>\n",
       "      <th>x3_Other Fossil</th>\n",
       "      <th>x3_Other Renewables</th>\n",
       "      <th>x3_Renewables</th>\n",
       "      <th>x3_Solar</th>\n",
       "      <th>x3_Total Generation</th>\n",
       "      <th>x3_Total emissions</th>\n",
       "      <th>x3_Wind</th>\n",
       "      <th>x3_Wind and Solar</th>\n",
       "    </tr>\n",
       "  </thead>\n",
       "  <tbody>\n",
       "    <tr>\n",
       "      <th>157639</th>\n",
       "      <td>0.887308</td>\n",
       "      <td>0.779279</td>\n",
       "      <td>-0.301368</td>\n",
       "      <td>1.0</td>\n",
       "      <td>0.0</td>\n",
       "      <td>0.0</td>\n",
       "      <td>0.0</td>\n",
       "      <td>1.0</td>\n",
       "      <td>0.0</td>\n",
       "      <td>0.0</td>\n",
       "      <td>...</td>\n",
       "      <td>0.0</td>\n",
       "      <td>1.0</td>\n",
       "      <td>0.0</td>\n",
       "      <td>0.0</td>\n",
       "      <td>0.0</td>\n",
       "      <td>0.0</td>\n",
       "      <td>0.0</td>\n",
       "      <td>0.0</td>\n",
       "      <td>0.0</td>\n",
       "      <td>0.0</td>\n",
       "    </tr>\n",
       "    <tr>\n",
       "      <th>147090</th>\n",
       "      <td>0.887308</td>\n",
       "      <td>1.651986</td>\n",
       "      <td>-0.293457</td>\n",
       "      <td>1.0</td>\n",
       "      <td>0.0</td>\n",
       "      <td>0.0</td>\n",
       "      <td>0.0</td>\n",
       "      <td>0.0</td>\n",
       "      <td>0.0</td>\n",
       "      <td>0.0</td>\n",
       "      <td>...</td>\n",
       "      <td>0.0</td>\n",
       "      <td>0.0</td>\n",
       "      <td>0.0</td>\n",
       "      <td>0.0</td>\n",
       "      <td>0.0</td>\n",
       "      <td>0.0</td>\n",
       "      <td>0.0</td>\n",
       "      <td>0.0</td>\n",
       "      <td>0.0</td>\n",
       "      <td>0.0</td>\n",
       "    </tr>\n",
       "    <tr>\n",
       "      <th>262412</th>\n",
       "      <td>0.657512</td>\n",
       "      <td>1.361083</td>\n",
       "      <td>-0.295435</td>\n",
       "      <td>1.0</td>\n",
       "      <td>0.0</td>\n",
       "      <td>0.0</td>\n",
       "      <td>0.0</td>\n",
       "      <td>1.0</td>\n",
       "      <td>0.0</td>\n",
       "      <td>0.0</td>\n",
       "      <td>...</td>\n",
       "      <td>0.0</td>\n",
       "      <td>0.0</td>\n",
       "      <td>0.0</td>\n",
       "      <td>0.0</td>\n",
       "      <td>0.0</td>\n",
       "      <td>0.0</td>\n",
       "      <td>0.0</td>\n",
       "      <td>0.0</td>\n",
       "      <td>0.0</td>\n",
       "      <td>0.0</td>\n",
       "    </tr>\n",
       "    <tr>\n",
       "      <th>71446</th>\n",
       "      <td>-0.261671</td>\n",
       "      <td>0.779279</td>\n",
       "      <td>-0.284887</td>\n",
       "      <td>0.0</td>\n",
       "      <td>1.0</td>\n",
       "      <td>0.0</td>\n",
       "      <td>0.0</td>\n",
       "      <td>1.0</td>\n",
       "      <td>0.0</td>\n",
       "      <td>0.0</td>\n",
       "      <td>...</td>\n",
       "      <td>0.0</td>\n",
       "      <td>0.0</td>\n",
       "      <td>0.0</td>\n",
       "      <td>0.0</td>\n",
       "      <td>0.0</td>\n",
       "      <td>0.0</td>\n",
       "      <td>0.0</td>\n",
       "      <td>0.0</td>\n",
       "      <td>0.0</td>\n",
       "      <td>0.0</td>\n",
       "    </tr>\n",
       "    <tr>\n",
       "      <th>179937</th>\n",
       "      <td>0.657512</td>\n",
       "      <td>-0.966136</td>\n",
       "      <td>-0.253901</td>\n",
       "      <td>0.0</td>\n",
       "      <td>1.0</td>\n",
       "      <td>0.0</td>\n",
       "      <td>0.0</td>\n",
       "      <td>1.0</td>\n",
       "      <td>0.0</td>\n",
       "      <td>0.0</td>\n",
       "      <td>...</td>\n",
       "      <td>0.0</td>\n",
       "      <td>0.0</td>\n",
       "      <td>1.0</td>\n",
       "      <td>0.0</td>\n",
       "      <td>0.0</td>\n",
       "      <td>0.0</td>\n",
       "      <td>0.0</td>\n",
       "      <td>0.0</td>\n",
       "      <td>0.0</td>\n",
       "      <td>0.0</td>\n",
       "    </tr>\n",
       "  </tbody>\n",
       "</table>\n",
       "<p>5 rows × 37 columns</p>\n",
       "</div>"
      ],
      "text/plain": [
       "               0         1         2  x0_Europe  \\\n",
       "157639  0.887308  0.779279 -0.301368        1.0   \n",
       "147090  0.887308  1.651986 -0.293457        1.0   \n",
       "262412  0.657512  1.361083 -0.295435        1.0   \n",
       "71446  -0.261671  0.779279 -0.284887        0.0   \n",
       "179937  0.657512 -0.966136 -0.253901        0.0   \n",
       "\n",
       "        x0_Latin America and Caribbean  x0_North America  x0_Oceania  \\\n",
       "157639                             0.0               0.0         0.0   \n",
       "147090                             0.0               0.0         0.0   \n",
       "262412                             0.0               0.0         0.0   \n",
       "71446                              1.0               0.0         0.0   \n",
       "179937                             1.0               0.0         0.0   \n",
       "\n",
       "        x1_Electricity generation  x1_Electricity imports  \\\n",
       "157639                        1.0                     0.0   \n",
       "147090                        0.0                     0.0   \n",
       "262412                        1.0                     0.0   \n",
       "71446                         1.0                     0.0   \n",
       "179937                        1.0                     0.0   \n",
       "\n",
       "        x1_Electricity prices  ...  x3_Net Imports  x3_Nuclear  \\\n",
       "157639                    0.0  ...             0.0         1.0   \n",
       "147090                    0.0  ...             0.0         0.0   \n",
       "262412                    0.0  ...             0.0         0.0   \n",
       "71446                     0.0  ...             0.0         0.0   \n",
       "179937                    0.0  ...             0.0         0.0   \n",
       "\n",
       "        x3_Other Fossil  x3_Other Renewables  x3_Renewables  x3_Solar  \\\n",
       "157639              0.0                  0.0            0.0       0.0   \n",
       "147090              0.0                  0.0            0.0       0.0   \n",
       "262412              0.0                  0.0            0.0       0.0   \n",
       "71446               0.0                  0.0            0.0       0.0   \n",
       "179937              1.0                  0.0            0.0       0.0   \n",
       "\n",
       "        x3_Total Generation  x3_Total emissions  x3_Wind  x3_Wind and Solar  \n",
       "157639                  0.0                 0.0      0.0                0.0  \n",
       "147090                  0.0                 0.0      0.0                0.0  \n",
       "262412                  0.0                 0.0      0.0                0.0  \n",
       "71446                   0.0                 0.0      0.0                0.0  \n",
       "179937                  0.0                 0.0      0.0                0.0  \n",
       "\n",
       "[5 rows x 37 columns]"
      ]
     },
     "execution_count": 111,
     "metadata": {},
     "output_type": "execute_result"
    }
   ],
   "source": [
    "X_test_clean.head()"
   ]
  },
  {
   "cell_type": "code",
   "execution_count": 112,
   "metadata": {
    "hidden": true
   },
   "outputs": [
    {
     "data": {
      "text/plain": [
       "KNeighborsClassifier()"
      ]
     },
     "execution_count": 112,
     "metadata": {},
     "output_type": "execute_result"
    }
   ],
   "source": [
    "knn = KNeighborsClassifier()\n",
    "\n",
    "knn.fit(X_train_clean, y_train)"
   ]
  },
  {
   "cell_type": "code",
   "execution_count": 113,
   "metadata": {},
   "outputs": [
    {
     "data": {
      "text/plain": [
       "0.4164013410770045"
      ]
     },
     "execution_count": 113,
     "metadata": {},
     "output_type": "execute_result"
    }
   ],
   "source": [
    "knn.score(X_train_clean, y_train)"
   ]
  },
  {
   "cell_type": "code",
   "execution_count": 114,
   "metadata": {},
   "outputs": [
    {
     "data": {
      "text/plain": [
       "0.23734118946786964"
      ]
     },
     "execution_count": 114,
     "metadata": {},
     "output_type": "execute_result"
    }
   ],
   "source": [
    "knn.score(X_test_clean, y_test)"
   ]
  },
  {
   "cell_type": "markdown",
   "metadata": {
    "heading_collapsed": true,
    "hidden": true
   },
   "source": [
    "#### Decision Tree"
   ]
  },
  {
   "cell_type": "code",
   "execution_count": 115,
   "metadata": {
    "hidden": true
   },
   "outputs": [
    {
     "data": {
      "text/plain": [
       "DecisionTreeClassifier(random_state=42)"
      ]
     },
     "execution_count": 115,
     "metadata": {},
     "output_type": "execute_result"
    }
   ],
   "source": [
    "dt = DecisionTreeClassifier(random_state=42)\n",
    "\n",
    "dt.fit(X_train_clean, y_train)"
   ]
  },
  {
   "cell_type": "code",
   "execution_count": 116,
   "metadata": {
    "scrolled": true
   },
   "outputs": [
    {
     "data": {
      "text/plain": [
       "0.8481468126404947"
      ]
     },
     "execution_count": 116,
     "metadata": {},
     "output_type": "execute_result"
    }
   ],
   "source": [
    "dt.score(X_train_clean, y_train)"
   ]
  },
  {
   "cell_type": "code",
   "execution_count": 117,
   "metadata": {},
   "outputs": [
    {
     "data": {
      "text/plain": [
       "0.4404345424415393"
      ]
     },
     "execution_count": 117,
     "metadata": {},
     "output_type": "execute_result"
    }
   ],
   "source": [
    "dt.score(X_test_clean, y_test)"
   ]
  },
  {
   "cell_type": "code",
   "execution_count": null,
   "metadata": {},
   "outputs": [],
   "source": []
  }
 ],
 "metadata": {
  "kernelspec": {
   "display_name": "Python (learn-env)",
   "language": "python",
   "name": "learn-env"
  },
  "language_info": {
   "codemirror_mode": {
    "name": "ipython",
    "version": 3
   },
   "file_extension": ".py",
   "mimetype": "text/x-python",
   "name": "python",
   "nbconvert_exporter": "python",
   "pygments_lexer": "ipython3",
   "version": "3.8.5"
  }
 },
 "nbformat": 4,
 "nbformat_minor": 4
}
